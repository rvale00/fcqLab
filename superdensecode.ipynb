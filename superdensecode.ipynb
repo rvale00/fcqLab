{
 "cells": [
  {
   "cell_type": "code",
   "execution_count": 1,
   "id": "33de20a8-958d-42b5-9c35-6bf5848fbc3e",
   "metadata": {},
   "outputs": [],
   "source": [
    "import numpy as np\n",
    "\n",
    "# Importing standard Qiskit libraries\n",
    "from qiskit import *\n",
    "from qiskit.tools.jupyter import *\n",
    "from qiskit.visualization import *\n",
    "from ibm_quantum_widgets import *\n",
    "from qiskit.providers.aer import QasmSimulator\n",
    "from qiskit.tools.monitor import job_monitor\n",
    "%matplotlib inline\n",
    "\n",
    "# Loading your IBM Quantum account(s)\n",
    "IBMQ.save_account('7e2c2b431b74f4ff3d3b86e3ae02bc34ce0bb62d96363d6fd8188ac974567be3b31d3121b5a1130c0373e3c4c7410684eb74d4946d32f378ad58e7722f6ba146', overwrite=True)\n",
    "IBMQ.load_account()\n",
    "provider = IBMQ.get_provider(hub = 'ibm-q')\n",
    "deviceReal = provider.get_backend('ibmq_lima')\n",
    "deviceSim = BasicAer.get_backend('qasm_simulator')\n"
   ]
  },
  {
   "cell_type": "code",
   "execution_count": 2,
   "id": "02da092f-833a-48da-985b-765e97a99c60",
   "metadata": {},
   "outputs": [],
   "source": [
    "def createEntangled():\n",
    "    es = QuantumCircuit(2)\n",
    "    es.h(1)\n",
    "    es.cx(1, 0)\n",
    "    return es"
   ]
  },
  {
   "cell_type": "code",
   "execution_count": 3,
   "id": "09862e0c-e8c8-4bfd-aebc-aafc1435434e",
   "metadata": {},
   "outputs": [],
   "source": [
    "def decode(de):\n",
    "    de.cx(1,0)\n",
    "    de.h(1)\n",
    "    return de"
   ]
  },
  {
   "cell_type": "code",
   "execution_count": 4,
   "id": "fbc61b40-85ae-4dc8-9cbb-b8b7922c7c83",
   "metadata": {},
   "outputs": [],
   "source": [
    "def encode(sdc,msg):\n",
    "    if msg == \"00\":\n",
    "        sdc.i(1)\n",
    "        return sdc\n",
    "    elif msg == \"01\":\n",
    "        sdc.z(1)\n",
    "        return sdc\n",
    "    elif msg == \"10\":\n",
    "        sdc.x(1)\n",
    "        return sdc\n",
    "    else :\n",
    "        sdc.y(1)\n",
    "        return sdc\n",
    "    "
   ]
  },
  {
   "cell_type": "code",
   "execution_count": 5,
   "id": "8ec66ee4-b13b-4c83-a98a-97c3baf3d549",
   "metadata": {},
   "outputs": [],
   "source": [
    "def misurazioniSim(sdc):\n",
    "    job = execute(sdc, backend = deviceSim)\n",
    "    device_result = job.result().get_counts()\n",
    "    return device_result;"
   ]
  },
  {
   "cell_type": "code",
   "execution_count": 6,
   "id": "c7de5946-2493-4001-80b9-d95938b7e42c",
   "metadata": {},
   "outputs": [],
   "source": [
    "def misurazioniReal(sdc):\n",
    "    job = execute(sdc,backend = deviceReal,shots = 1024)\n",
    "    print(job.job_id())\n",
    "    job_monitor(job)\n",
    "    device_result = job.result().get_counts()\n",
    "    return device_result"
   ]
  },
  {
   "cell_type": "code",
   "execution_count": 7,
   "id": "b13f6d0c-0cdb-4107-94c0-f592817dbeb4",
   "metadata": {},
   "outputs": [
    {
     "data": {
      "image/png": "[encoded data removed]",
      "text/plain": [
       "<Figure size 598.479x204.68 with 1 Axes>"
      ]
     },
     "execution_count": 7,
     "metadata": {},
     "output_type": "execute_result"
    }
   ],
   "source": [
    "#Alice vuole mandare i bit 00 a Bob\n",
    "sdc = createEntangled()\n",
    "sdc = encode(sdc,\"00\") #Alice invia\n",
    "sdc = decode(sdc) #Bob riceve\n",
    "sdc.measure_all()\n",
    "sdc.draw('mpl')"
   ]
  },
  {
   "cell_type": "code",
   "execution_count": null,
   "id": "b55c50ba-f058-4327-8bc6-eeb0da86e16e",
   "metadata": {},
   "outputs": [
    {
     "name": "stdout",
     "output_type": "stream",
     "text": [
      "61e52a1682ce860ac9b42576\n",
      "Job Status: job is queued (3)     "
     ]
    }
   ],
   "source": [
    "    device_result = misurazioniReal(sdc)\n",
    "    plot_histogram(device_result)"
   ]
  },
  {
   "cell_type": "code",
   "execution_count": null,
   "id": "67b1f7e4-0a10-4521-b011-f1a657f3754a",
   "metadata": {},
   "outputs": [],
   "source": [
    "device_result = misurazioniSim(sdc)\n",
    "plot_histogram(device_result, color='green', title=\"Porta Identità\")"
   ]
  },
  {
   "cell_type": "code",
   "execution_count": null,
   "id": "e4c849c8-c8ea-4fbf-b1e9-db30f53ca81a",
   "metadata": {},
   "outputs": [],
   "source": [
    "#Alice vuole mandare i bit 01 a Bob\n",
    "sdc = createEntangled()\n",
    "sdc = encode(sdc,\"01\") #Alice invia\n",
    "sdc = decode(sdc) #Bob riceve\n",
    "sdc.measure_all()\n",
    "sdc.draw('mpl')"
   ]
  },
  {
   "cell_type": "code",
   "execution_count": null,
   "id": "8b66bed7-6521-4c83-bade-36e251fa3067",
   "metadata": {},
   "outputs": [],
   "source": [
    "    device_result = misurazioniReal(sdc)\n",
    "    plot_histogram(device_result)"
   ]
  },
  {
   "cell_type": "code",
   "execution_count": null,
   "id": "2df630f9-d4a2-4254-8716-3be49a219d80",
   "metadata": {},
   "outputs": [],
   "source": [
    "device_result = misurazioniSim(sdc)\n",
    "plot_histogram(device_result, color='green', title=\"Porta Z\")"
   ]
  },
  {
   "cell_type": "code",
   "execution_count": null,
   "id": "faf63977-6608-47b5-8328-9b2972ad75ef",
   "metadata": {},
   "outputs": [],
   "source": [
    "#Alice vuole mandare i bit 10 a Bob\n",
    "sdc = createEntangled()\n",
    "sdc = encode(sdc,\"10\") #Alice invia\n",
    "sdc = decode(sdc) #Bob riceve\n",
    "sdc.measure_all()\n",
    "sdc.draw('mpl')"
   ]
  },
  {
   "cell_type": "code",
   "execution_count": null,
   "id": "54e8c0cd-4849-43f8-8c82-47f7fc785eed",
   "metadata": {},
   "outputs": [],
   "source": [
    "device_result = misurazioniReal(sdc)\n",
    "plot_histogram(device_result)"
   ]
  },
  {
   "cell_type": "code",
   "execution_count": null,
   "id": "abb978bd-c843-420a-b779-c96639a8aca6",
   "metadata": {},
   "outputs": [],
   "source": [
    "device_result = misurazioniSim(sdc)\n",
    "plot_histogram(device_result, color='green', title=\"Porta X\")"
   ]
  },
  {
   "cell_type": "code",
   "execution_count": null,
   "id": "efdd51d1-667f-4485-b6aa-bfbc68b5c326",
   "metadata": {},
   "outputs": [],
   "source": [
    "#Alice vuole mandare i bit 11 a Bob\n",
    "sdc = createEntangled()\n",
    "sdc = encode(sdc,\"11\") #Alice invia\n",
    "sdc = decode(sdc) #Bob riceve\n",
    "sdc.measure_all()\n",
    "sdc.draw('mpl')"
   ]
  },
  {
   "cell_type": "code",
   "execution_count": null,
   "id": "27838d5b-ebb4-4240-b236-2f347ce89fa3",
   "metadata": {},
   "outputs": [],
   "source": [
    "device_result = misurazioniReal(sdc)\n",
    "plot_histogram(device_result)"
   ]
  },
  {
   "cell_type": "code",
   "execution_count": null,
   "id": "58672fc4-90b4-4f77-b62f-33f98c3cda42",
   "metadata": {},
   "outputs": [],
   "source": [
    "device_result = misurazioniSim(sdc)\n",
    "plot_histogram(device_result, color='green', title=\"Porta iY\")"
   ]
  },
  {
   "cell_type": "code",
   "execution_count": null,
   "id": "7797b846-29e1-4496-bd8d-5123cedac7a9",
   "metadata": {},
   "outputs": [],
   "source": []
  }
 ],
 "metadata": {
  "kernelspec": {
   "display_name": "Qiskit v0.34.1 (ipykernel)",
   "language": "python",
   "name": "python3"
  },
  "language_info": {
   "codemirror_mode": {
    "name": "ipython",
    "version": 3
   },
   "file_extension": ".py",
   "mimetype": "text/x-python",
   "name": "python",
   "nbconvert_exporter": "python",
   "pygments_lexer": "ipython3",
   "version": "3.8.12"
  },
  "widgets": {
   "application/vnd.jupyter.widget-state+json": {
    "state": {
     "11f2a79a4624494fa173cb6ba9033bea": {
      "model_module": "@jupyter-widgets/controls",
      "model_module_version": "1.5.0",
      "model_name": "DescriptionStyleModel",
      "state": {
       "description_width": ""
      }
     },
     "17a309e7646b49d8884c70649b147eb8": {
      "model_module": "@jupyter-widgets/controls",
      "model_module_version": "1.5.0",
      "model_name": "HTMLModel",
      "state": {
       "layout": "IPY_MODEL_7202affb2c2e48899563e8ef0ddbeb2f",
       "style": "IPY_MODEL_4b6eee54cc794f0aac70abc1a3bf8e58",
       "value": "<h5>Job ID</h5>"
      }
     },
     "1ad4f01b8ce14cf594d5695fed9be999": {
      "model_module": "@jupyter-widgets/controls",
      "model_module_version": "1.5.0",
      "model_name": "DescriptionStyleModel",
      "state": {
       "description_width": ""
      }
     },
     "1ff344f41c08400e8bbf6c3416726935": {
      "model_module": "@jupyter-widgets/controls",
      "model_module_version": "1.5.0",
      "model_name": "HTMLModel",
      "state": {
       "layout": "IPY_MODEL_d8f6c151127b4ac2b9c173e03b51457a",
       "style": "IPY_MODEL_814222321aad4addbd5278728af51f63",
       "value": "61e52a1682ce860ac9b42576"
      }
     },
     "20e62b2a65b5482290c0c74f14bfd43b": {
      "model_module": "@jupyter-widgets/controls",
      "model_module_version": "1.5.0",
      "model_name": "HBoxModel",
      "state": {
       "children": [
        "IPY_MODEL_17a309e7646b49d8884c70649b147eb8",
        "IPY_MODEL_bb2dd7cea2ec4b518135986d1434deda",
        "IPY_MODEL_c44dfdc1e9384f91ae057c4f4027a854",
        "IPY_MODEL_7b6198a5d66543d1848ee51554a55682",
        "IPY_MODEL_4f2b26e182d04d72bd55c4775bf83782"
       ],
       "layout": "IPY_MODEL_8108b36e0b4441b0bd5e64468b583352"
      }
     },
     "2652aac5a639407cb4e935f8e117fae9": {
      "model_module": "@jupyter-widgets/controls",
      "model_module_version": "1.5.0",
      "model_name": "HTMLModel",
      "state": {
       "layout": "IPY_MODEL_3df639a8f35c4d61a85be7e777834056",
       "style": "IPY_MODEL_acd65a5b30454ba482763ff9748456b2",
       "value": "job is queued"
      }
     },
     "27e5182bd2a746aa8da0f30803cfb81f": {
      "model_module": "@jupyter-widgets/base",
      "model_module_version": "1.2.0",
      "model_name": "LayoutModel",
      "state": {
       "grid_template_areas": "\n                                       \". . . . right \"\n                                        ",
       "grid_template_columns": "20% 20% 20% 20% 20%",
       "width": "100%"
      }
     },
     "3144843c0eac4ba1bba3be4144f53cd0": {
      "model_module": "@jupyter-widgets/controls",
      "model_module_version": "1.5.0",
      "model_name": "HTMLModel",
      "state": {
       "layout": "IPY_MODEL_9a38a84ca8fe423580c9d4fd859e3fb9",
       "style": "IPY_MODEL_ca49332ced2046c58cae526cd5864253",
       "value": "ibmq_lima"
      }
     },
     "3b010aa069654e1f97f96497ed576d93": {
      "model_module": "@jupyter-widgets/controls",
      "model_module_version": "1.5.0",
      "model_name": "GridBoxModel",
      "state": {
       "children": [
        "IPY_MODEL_685605df9bba4a65a62dd8b76bc5013a"
       ],
       "layout": "IPY_MODEL_27e5182bd2a746aa8da0f30803cfb81f"
      }
     },
     "3df639a8f35c4d61a85be7e777834056": {
      "model_module": "@jupyter-widgets/base",
      "model_module_version": "1.2.0",
      "model_name": "LayoutModel",
      "state": {
       "overflow_x": "scroll"
      }
     },
     "4b6eee54cc794f0aac70abc1a3bf8e58": {
      "model_module": "@jupyter-widgets/controls",
      "model_module_version": "1.5.0",
      "model_name": "DescriptionStyleModel",
      "state": {
       "description_width": ""
      }
     },
     "4d66c35ace0b44139d7baecddea046b5": {
      "model_module": "@jupyter-widgets/base",
      "model_module_version": "1.2.0",
      "model_name": "LayoutModel",
      "state": {
       "width": "70px"
      }
     },
     "4f2b26e182d04d72bd55c4775bf83782": {
      "model_module": "@jupyter-widgets/controls",
      "model_module_version": "1.5.0",
      "model_name": "HTMLModel",
      "state": {
       "layout": "IPY_MODEL_6a92945e254d4ad88ca057e9530d1f47",
       "style": "IPY_MODEL_960b49e71b394109a0541d52af338a27",
       "value": "<h5>Message</h5>"
      }
     },
     "5aa7d46c0e9948498654d6086cfafc8f": {
      "model_module": "@jupyter-widgets/controls",
      "model_module_version": "1.5.0",
      "model_name": "DescriptionStyleModel",
      "state": {
       "description_width": ""
      }
     },
     "6308e1bc810b496f97a330cf368caf9f": {
      "model_module": "@jupyter-widgets/base",
      "model_module_version": "1.2.0",
      "model_name": "LayoutModel",
      "state": {
       "width": "145px"
      }
     },
     "65bca0c7fdfd488ea7a981470c096b33": {
      "model_module": "@jupyter-widgets/base",
      "model_module_version": "1.2.0",
      "model_name": "LayoutModel",
      "state": {
       "grid_area": "right",
       "padding": "0px 0px 0px 0px",
       "width": "70px"
      }
     },
     "685605df9bba4a65a62dd8b76bc5013a": {
      "model_module": "@jupyter-widgets/controls",
      "model_module_version": "1.5.0",
      "model_name": "ButtonModel",
      "state": {
       "button_style": "primary",
       "description": "Clear",
       "layout": "IPY_MODEL_65bca0c7fdfd488ea7a981470c096b33",
       "style": "IPY_MODEL_7ea5fe0f75a948678c9425ef1ee8eee2"
      }
     },
     "6a72de9ae77f4821b5799982ee298b26": {
      "model_module": "@jupyter-widgets/base",
      "model_module_version": "1.2.0",
      "model_name": "LayoutModel",
      "state": {
       "margin": "0px 5px 0px 0px",
       "width": "32px"
      }
     },
     "6a92945e254d4ad88ca057e9530d1f47": {
      "model_module": "@jupyter-widgets/base",
      "model_module_version": "1.2.0",
      "model_name": "LayoutModel",
      "state": {}
     },
     "71887ba80e1747e6aa2e2acf418b3135": {
      "model_module": "@jupyter-widgets/base",
      "model_module_version": "1.2.0",
      "model_name": "LayoutModel",
      "state": {
       "max_width": "700px",
       "min_width": "700px"
      }
     },
     "7202affb2c2e48899563e8ef0ddbeb2f": {
      "model_module": "@jupyter-widgets/base",
      "model_module_version": "1.2.0",
      "model_name": "LayoutModel",
      "state": {
       "width": "190px"
      }
     },
     "7b6198a5d66543d1848ee51554a55682": {
      "model_module": "@jupyter-widgets/controls",
      "model_module_version": "1.5.0",
      "model_name": "HTMLModel",
      "state": {
       "layout": "IPY_MODEL_4d66c35ace0b44139d7baecddea046b5",
       "style": "IPY_MODEL_e945833dc2014903ab3fc870a32ef19d",
       "value": "<h5>Queue</h5>"
      }
     },
     "7ea5fe0f75a948678c9425ef1ee8eee2": {
      "model_module": "@jupyter-widgets/controls",
      "model_module_version": "1.5.0",
      "model_name": "ButtonStyleModel",
      "state": {}
     },
     "8108b36e0b4441b0bd5e64468b583352": {
      "model_module": "@jupyter-widgets/base",
      "model_module_version": "1.2.0",
      "model_name": "LayoutModel",
      "state": {
       "margin": "0px 0px 0px 37px",
       "width": "600px"
      }
     },
     "814222321aad4addbd5278728af51f63": {
      "model_module": "@jupyter-widgets/controls",
      "model_module_version": "1.5.0",
      "model_name": "DescriptionStyleModel",
      "state": {
       "description_width": ""
      }
     },
     "89a318457a5f47c1b2e32f23a4e98c2a": {
      "model_module": "@jupyter-widgets/base",
      "model_module_version": "1.2.0",
      "model_name": "LayoutModel",
      "state": {
       "width": "70px"
      }
     },
     "8b7fa4c25c5f4bcb91e9828fb9111da8": {
      "model_module": "@jupyter-widgets/base",
      "model_module_version": "1.2.0",
      "model_name": "LayoutModel",
      "state": {
       "margin": "0px 0px 10px 0px"
      }
     },
     "8c29a74480d844ef9c8b0856b25b546e": {
      "model_module": "@jupyter-widgets/controls",
      "model_module_version": "1.5.0",
      "model_name": "ButtonStyleModel",
      "state": {
       "button_color": "white"
      }
     },
     "960b49e71b394109a0541d52af338a27": {
      "model_module": "@jupyter-widgets/controls",
      "model_module_version": "1.5.0",
      "model_name": "DescriptionStyleModel",
      "state": {
       "description_width": ""
      }
     },
     "9a38a84ca8fe423580c9d4fd859e3fb9": {
      "model_module": "@jupyter-widgets/base",
      "model_module_version": "1.2.0",
      "model_name": "LayoutModel",
      "state": {
       "width": "145px"
      }
     },
     "9cbbfde4bfa248ae9cefd5e69c329ed9": {
      "model_module": "@jupyter-widgets/controls",
      "model_module_version": "1.5.0",
      "model_name": "HTMLModel",
      "state": {
       "layout": "IPY_MODEL_8b7fa4c25c5f4bcb91e9828fb9111da8",
       "style": "IPY_MODEL_11f2a79a4624494fa173cb6ba9033bea",
       "value": "<p style='font-family: IBM Plex Sans, Arial, Helvetica, sans-serif; font-size: 20px; font-weight: medium;'>Circuit Properties</p>"
      }
     },
     "acd65a5b30454ba482763ff9748456b2": {
      "model_module": "@jupyter-widgets/controls",
      "model_module_version": "1.5.0",
      "model_name": "DescriptionStyleModel",
      "state": {
       "description_width": ""
      }
     },
     "b7a1a077b2a842c6bb1e01a41c4c2f16": {
      "model_module": "@jupyter-widgets/controls",
      "model_module_version": "1.5.0",
      "model_name": "ButtonModel",
      "state": {
       "icon": "close",
       "layout": "IPY_MODEL_6a72de9ae77f4821b5799982ee298b26",
       "style": "IPY_MODEL_8c29a74480d844ef9c8b0856b25b546e"
      }
     },
     "bb2dd7cea2ec4b518135986d1434deda": {
      "model_module": "@jupyter-widgets/controls",
      "model_module_version": "1.5.0",
      "model_name": "HTMLModel",
      "state": {
       "layout": "IPY_MODEL_6308e1bc810b496f97a330cf368caf9f",
       "style": "IPY_MODEL_1ad4f01b8ce14cf594d5695fed9be999",
       "value": "<h5>Backend</h5>"
      }
     },
     "c289b0a83f4e4dcebcbe6dae0881331a": {
      "model_module": "@jupyter-widgets/base",
      "model_module_version": "1.2.0",
      "model_name": "LayoutModel",
      "state": {
       "width": "95px"
      }
     },
     "c44dfdc1e9384f91ae057c4f4027a854": {
      "model_module": "@jupyter-widgets/controls",
      "model_module_version": "1.5.0",
      "model_name": "HTMLModel",
      "state": {
       "layout": "IPY_MODEL_ca24cb23ad4a4435a490d909c2c7c582",
       "style": "IPY_MODEL_f11f3eef3ed14c669e200d58d5360ebf",
       "value": "<h5>Status</h5>"
      }
     },
     "ca24cb23ad4a4435a490d909c2c7c582": {
      "model_module": "@jupyter-widgets/base",
      "model_module_version": "1.2.0",
      "model_name": "LayoutModel",
      "state": {
       "width": "95px"
      }
     },
     "ca49332ced2046c58cae526cd5864253": {
      "model_module": "@jupyter-widgets/controls",
      "model_module_version": "1.5.0",
      "model_name": "DescriptionStyleModel",
      "state": {
       "description_width": ""
      }
     },
     "d40f364fe97c426eae5999c045147260": {
      "model_module": "@jupyter-widgets/controls",
      "model_module_version": "1.5.0",
      "model_name": "HBoxModel",
      "state": {
       "children": [
        "IPY_MODEL_b7a1a077b2a842c6bb1e01a41c4c2f16",
        "IPY_MODEL_1ff344f41c08400e8bbf6c3416726935",
        "IPY_MODEL_3144843c0eac4ba1bba3be4144f53cd0",
        "IPY_MODEL_e8defacaad61432290c1e88bc717c7b6",
        "IPY_MODEL_d9b22f6da64f415283f31cd7543c1b93",
        "IPY_MODEL_2652aac5a639407cb4e935f8e117fae9"
       ],
       "layout": "IPY_MODEL_71887ba80e1747e6aa2e2acf418b3135"
      }
     },
     "d8f6c151127b4ac2b9c173e03b51457a": {
      "model_module": "@jupyter-widgets/base",
      "model_module_version": "1.2.0",
      "model_name": "LayoutModel",
      "state": {
       "width": "190px"
      }
     },
     "d9b22f6da64f415283f31cd7543c1b93": {
      "model_module": "@jupyter-widgets/controls",
      "model_module_version": "1.5.0",
      "model_name": "HTMLModel",
      "state": {
       "layout": "IPY_MODEL_89a318457a5f47c1b2e32f23a4e98c2a",
       "style": "IPY_MODEL_f8d74c3778d945e697982af6668ee4e1",
       "value": "3"
      }
     },
     "e8defacaad61432290c1e88bc717c7b6": {
      "model_module": "@jupyter-widgets/controls",
      "model_module_version": "1.5.0",
      "model_name": "HTMLModel",
      "state": {
       "layout": "IPY_MODEL_c289b0a83f4e4dcebcbe6dae0881331a",
       "style": "IPY_MODEL_5aa7d46c0e9948498654d6086cfafc8f",
       "value": "QUEUED"
      }
     },
     "e945833dc2014903ab3fc870a32ef19d": {
      "model_module": "@jupyter-widgets/controls",
      "model_module_version": "1.5.0",
      "model_name": "DescriptionStyleModel",
      "state": {
       "description_width": ""
      }
     },
     "f11f3eef3ed14c669e200d58d5360ebf": {
      "model_module": "@jupyter-widgets/controls",
      "model_module_version": "1.5.0",
      "model_name": "DescriptionStyleModel",
      "state": {
       "description_width": ""
      }
     },
     "f8d74c3778d945e697982af6668ee4e1": {
      "model_module": "@jupyter-widgets/controls",
      "model_module_version": "1.5.0",
      "model_name": "DescriptionStyleModel",
      "state": {
       "description_width": ""
      }
     }
    },
    "version_major": 2,
    "version_minor": 0
   }
  }
 },
 "nbformat": 4,
 "nbformat_minor": 5
}
