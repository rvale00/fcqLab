{
 "cells": [
  {
   "cell_type": "code",
   "execution_count": 30,
   "id": "33de20a8-958d-42b5-9c35-6bf5848fbc3e",
   "metadata": {},
   "outputs": [
    {
     "name": "stderr",
     "output_type": "stream",
     "text": [
      "ibmqfactory.load_account:WARNING:2022-01-15 16:24:40,456: Credentials are already in use. The existing account in the session will be replaced.\n"
     ]
    }
   ],
   "source": [
    "import numpy as np\n",
    "\n",
    "# Importing standard Qiskit libraries\n",
    "from qiskit import *\n",
    "from qiskit.tools.jupyter import *\n",
    "from qiskit.visualization import *\n",
    "from ibm_quantum_widgets import *\n",
    "from qiskit.providers.aer import QasmSimulator\n",
    "from qiskit.tools.monitor import job_monitor\n",
    "\n",
    "# Loading your IBM Quantum account(s)\n",
    "API_KEY = \"fd386c9845f1931c636bff10a0f27322bd91aeca18d7716ac282c7d88e4f51a2345295d5073af63a514eabf627196edd06d60cc18892603106dc51570f042bb5\"\n",
    "IBMQ.save_account('API_KEY', overwrite=True)\n",
    "IBMQ.load_account()\n",
    "provider = IBMQ.get_provider(hub = 'ibm-q')\n",
    "device = provider.get_backend('ibmq_manila')\n"
   ]
  },
  {
   "cell_type": "code",
   "execution_count": 31,
   "id": "02da092f-833a-48da-985b-765e97a99c60",
   "metadata": {},
   "outputs": [],
   "source": [
    "def createEntangled():\n",
    "    es = QuantumCircuit(2)\n",
    "    es.h(1)\n",
    "    es.cx(1, 0)\n",
    "    return es"
   ]
  },
  {
   "cell_type": "code",
   "execution_count": 32,
   "id": "09862e0c-e8c8-4bfd-aebc-aafc1435434e",
   "metadata": {},
   "outputs": [],
   "source": [
    "def decode(de):\n",
    "    de.cx(1,0)\n",
    "    de.h(1)\n",
    "    return de"
   ]
  },
  {
   "cell_type": "code",
   "execution_count": 36,
   "id": "fbc61b40-85ae-4dc8-9cbb-b8b7922c7c83",
   "metadata": {},
   "outputs": [],
   "source": [
    "def encode(sdc,msg):\n",
    "    if msg == \"00\":\n",
    "        return sdc\n",
    "    elif msg == \"01\":\n",
    "        sdc.z(1)\n",
    "        return sdc\n",
    "    elif msg == \"10\":\n",
    "        sdc.x(1)\n",
    "        return sdc\n",
    "    else :\n",
    "        sdc.y(1)\n",
    "        return sdc\n",
    "    "
   ]
  },
  {
   "cell_type": "code",
   "execution_count": 37,
   "id": "8ec66ee4-b13b-4c83-a98a-97c3baf3d549",
   "metadata": {},
   "outputs": [],
   "source": [
    "def misurazioniSim(sdc):\n",
    "    aer_sim = Aer.get_backend('aer_simulator')\n",
    "    result = aer_sim.run(sdc).result()\n",
    "    counts = result.get_counts(sdc)\n",
    "    print(counts)\n",
    "    plot_histogram(counts)"
   ]
  },
  {
   "cell_type": "code",
   "execution_count": 38,
   "id": "c7de5946-2493-4001-80b9-d95938b7e42c",
   "metadata": {},
   "outputs": [],
   "source": [
    "def misurazioniReal(sdc):\n",
    "    job = execute(sdc,backend = device,shots = 1024)\n",
    "    print(job.job_id())\n",
    "    job_monitor(job)\n",
    "    device_result = job.result().get_counts()\n",
    "    plot_histogram(device_result)\n",
    "\n",
    "    "
   ]
  },
  {
   "cell_type": "code",
   "execution_count": 28,
   "id": "b13f6d0c-0cdb-4107-94c0-f592817dbeb4",
   "metadata": {},
   "outputs": [
    {
     "name": "stdout",
     "output_type": "stream",
     "text": [
      "61e2f4dc7d229f3cf1c7d55c\n",
      "Job Status: job is queued (4)     "
     ]
    },
    {
     "ename": "KeyboardInterrupt",
     "evalue": "",
     "output_type": "error",
     "traceback": [
      "\u001b[0;31m---------------------------------------------------------------------------\u001b[0m",
      "\u001b[0;31mKeyboardInterrupt\u001b[0m                         Traceback (most recent call last)",
      "Input \u001b[0;32mIn [28]\u001b[0m, in \u001b[0;36m<module>\u001b[0;34m\u001b[0m\n\u001b[1;32m      4\u001b[0m sdc \u001b[38;5;241m=\u001b[39m decode(sdc) \u001b[38;5;66;03m#Bob riceve\u001b[39;00m\n\u001b[1;32m      5\u001b[0m \u001b[38;5;66;03m#misurazioniSim(sdc)\u001b[39;00m\n\u001b[0;32m----> 6\u001b[0m \u001b[43mmisurazioniReal\u001b[49m\u001b[43m(\u001b[49m\u001b[43msdc\u001b[49m\u001b[43m)\u001b[49m\n",
      "Input \u001b[0;32mIn [26]\u001b[0m, in \u001b[0;36mmisurazioniReal\u001b[0;34m(sdc)\u001b[0m\n\u001b[1;32m      2\u001b[0m job \u001b[38;5;241m=\u001b[39m execute(sdc,backend \u001b[38;5;241m=\u001b[39m device,shots \u001b[38;5;241m=\u001b[39m \u001b[38;5;241m1024\u001b[39m)\n\u001b[1;32m      3\u001b[0m \u001b[38;5;28mprint\u001b[39m(job\u001b[38;5;241m.\u001b[39mjob_id())\n\u001b[0;32m----> 4\u001b[0m \u001b[43mjob_monitor\u001b[49m\u001b[43m(\u001b[49m\u001b[43mjob\u001b[49m\u001b[43m)\u001b[49m\n\u001b[1;32m      5\u001b[0m device_result \u001b[38;5;241m=\u001b[39m job\u001b[38;5;241m.\u001b[39mresult()\n\u001b[1;32m      6\u001b[0m plot_histogram(device_result\u001b[38;5;241m.\u001b[39mget_counts(sdc))\n",
      "File \u001b[0;32m/opt/conda/lib/python3.8/site-packages/qiskit/tools/monitor/job_monitor.py:89\u001b[0m, in \u001b[0;36mjob_monitor\u001b[0;34m(job, interval, quiet, output, line_discipline)\u001b[0m\n\u001b[1;32m     86\u001b[0m \u001b[38;5;28;01melse\u001b[39;00m:\n\u001b[1;32m     87\u001b[0m     _interval_set \u001b[38;5;241m=\u001b[39m \u001b[38;5;28;01mTrue\u001b[39;00m\n\u001b[0;32m---> 89\u001b[0m \u001b[43m_text_checker\u001b[49m\u001b[43m(\u001b[49m\n\u001b[1;32m     90\u001b[0m \u001b[43m    \u001b[49m\u001b[43mjob\u001b[49m\u001b[43m,\u001b[49m\u001b[43m \u001b[49m\u001b[43minterval\u001b[49m\u001b[43m,\u001b[49m\u001b[43m \u001b[49m\u001b[43m_interval_set\u001b[49m\u001b[43m,\u001b[49m\u001b[43m \u001b[49m\u001b[43mquiet\u001b[49m\u001b[38;5;241;43m=\u001b[39;49m\u001b[43mquiet\u001b[49m\u001b[43m,\u001b[49m\u001b[43m \u001b[49m\u001b[43moutput\u001b[49m\u001b[38;5;241;43m=\u001b[39;49m\u001b[43moutput\u001b[49m\u001b[43m,\u001b[49m\u001b[43m \u001b[49m\u001b[43mline_discipline\u001b[49m\u001b[38;5;241;43m=\u001b[39;49m\u001b[43mline_discipline\u001b[49m\n\u001b[1;32m     91\u001b[0m \u001b[43m\u001b[49m\u001b[43m)\u001b[49m\n",
      "File \u001b[0;32m/opt/conda/lib/python3.8/site-packages/qiskit/tools/monitor/job_monitor.py:44\u001b[0m, in \u001b[0;36m_text_checker\u001b[0;34m(job, interval, _interval_set, quiet, output, line_discipline)\u001b[0m\n\u001b[1;32m     42\u001b[0m     \u001b[38;5;28mprint\u001b[39m(\u001b[38;5;124m\"\u001b[39m\u001b[38;5;132;01m{}\u001b[39;00m\u001b[38;5;132;01m{}\u001b[39;00m\u001b[38;5;124m: \u001b[39m\u001b[38;5;132;01m{}\u001b[39;00m\u001b[38;5;124m\"\u001b[39m\u001b[38;5;241m.\u001b[39mformat(line_discipline, \u001b[38;5;124m\"\u001b[39m\u001b[38;5;124mJob Status\u001b[39m\u001b[38;5;124m\"\u001b[39m, msg), end\u001b[38;5;241m=\u001b[39m\u001b[38;5;124m\"\u001b[39m\u001b[38;5;124m\"\u001b[39m, file\u001b[38;5;241m=\u001b[39moutput)\n\u001b[1;32m     43\u001b[0m \u001b[38;5;28;01mwhile\u001b[39;00m status\u001b[38;5;241m.\u001b[39mname \u001b[38;5;129;01mnot\u001b[39;00m \u001b[38;5;129;01min\u001b[39;00m [\u001b[38;5;124m\"\u001b[39m\u001b[38;5;124mDONE\u001b[39m\u001b[38;5;124m\"\u001b[39m, \u001b[38;5;124m\"\u001b[39m\u001b[38;5;124mCANCELLED\u001b[39m\u001b[38;5;124m\"\u001b[39m, \u001b[38;5;124m\"\u001b[39m\u001b[38;5;124mERROR\u001b[39m\u001b[38;5;124m\"\u001b[39m]:\n\u001b[0;32m---> 44\u001b[0m     \u001b[43mtime\u001b[49m\u001b[38;5;241;43m.\u001b[39;49m\u001b[43msleep\u001b[49m\u001b[43m(\u001b[49m\u001b[43minterval\u001b[49m\u001b[43m)\u001b[49m\n\u001b[1;32m     45\u001b[0m     status \u001b[38;5;241m=\u001b[39m job\u001b[38;5;241m.\u001b[39mstatus()\n\u001b[1;32m     46\u001b[0m     msg \u001b[38;5;241m=\u001b[39m status\u001b[38;5;241m.\u001b[39mvalue\n",
      "\u001b[0;31mKeyboardInterrupt\u001b[0m: "
     ]
    }
   ],
   "source": [
    "#Alice vuole mandare i bit 00 a Bob\n",
    "sdc = createEntangled()\n",
    "sdc = encode(sdc,\"00\") #Alice invia\n",
    "sdc = decode(sdc) #Bob riceve\n",
    "#misurazioniSim(sdc)\n",
    "misurazioniReal(sdc)"
   ]
  },
  {
   "cell_type": "code",
   "execution_count": 39,
   "id": "e4c849c8-c8ea-4fbf-b1e9-db30f53ca81a",
   "metadata": {},
   "outputs": [
    {
     "name": "stdout",
     "output_type": "stream",
     "text": [
      "61e2f5dca90e533d337361cd\n",
      "Job Status: job has successfully run\n",
      "Traceback \u001b[1;36m(most recent call last)\u001b[0m:\n",
      "  Input \u001b[0;32mIn [39]\u001b[0m in \u001b[0;35m<module>\u001b[0m\n",
      "    misurazioniReal(sdc)\n",
      "  Input \u001b[0;32mIn [38]\u001b[0m in \u001b[0;35mmisurazioniReal\u001b[0m\n",
      "    plot_histogram(device_result.get_counts(sdc))\n",
      "\u001b[1;36m  File \u001b[1;32m/opt/conda/lib/python3.8/site-packages/qiskit/visualization/counts_visualization.py:222\u001b[1;36m in \u001b[1;35mplot_histogram\u001b[1;36m\u001b[0m\n",
      "\u001b[1;33m    ax.set_ylim([0.0, min([1.2, max(1.2 * val for val in all_vals)])])\u001b[0m\n",
      "\u001b[1;31mValueError\u001b[0m\u001b[1;31m:\u001b[0m max() arg is an empty sequence\n",
      "\n",
      "Use %tb to get the full traceback.\n"
     ]
    },
    {
     "data": {
      "text/html": [
       "\n",
       "<style>\n",
       ".button {\n",
       "  border: none;\n",
       "  color: white;\n",
       "  padding: 4px 8px;\n",
       "  text-align: center;\n",
       "  text-decoration: none;\n",
       "  display: inline-block;\n",
       "  font-size: 12px;\n",
       "  margin: 4px 2px;\n",
       "  transition-duration: 0.2s;\n",
       "  cursor: pointer;\n",
       "}\n",
       ".iqx-button {\n",
       "  background-color: #0f62fe; \n",
       "  color: white; \n",
       "}\n",
       ".iqx-button:hover {\n",
       "  background-color: #0043ce;\n",
       "  color: white;\n",
       "}\n",
       "</style>\n",
       "<a href=\"https://stackoverflow.com/search?q=ValueError: max() arg is an empty sequence\" target='_blank'><button class='button iqx-button'>Search for solution online</button></a>\n"
      ],
      "text/plain": [
       "<IPython.core.display.HTML object>"
      ]
     },
     "metadata": {},
     "output_type": "display_data"
    },
    {
     "data": {
      "image/png": "[encoded data removed]",
      "text/plain": [
       "<Figure size 504x360 with 1 Axes>"
      ]
     },
     "metadata": {
      "needs_background": "light"
     },
     "output_type": "display_data"
    }
   ],
   "source": [
    "#Alice vuole mandare i bit 01 a Bob\n",
    "sdc = createEntangled()\n",
    "sdc = encode(sdc,\"01\") #Alice invia\n",
    "sdc = decode(sdc) #Bob riceve\n",
    "#misurazioniSim(sdc)\n",
    "misurazioniReal(sdc)"
   ]
  },
  {
   "cell_type": "code",
   "execution_count": null,
   "id": "faf63977-6608-47b5-8328-9b2972ad75ef",
   "metadata": {},
   "outputs": [],
   "source": [
    "#Alice vuole mandare i bit 01 a Bob\n",
    "sdc = createEntangled()\n",
    "sdc = encode(sdc,\"10\") #Alice invia\n",
    "sdc = decode(sdc) #Bob riceve\n",
    "#misurazioniSim(sdc)\n",
    "misurazioniReal(sdc)"
   ]
  },
  {
   "cell_type": "code",
   "execution_count": null,
   "id": "efdd51d1-667f-4485-b6aa-bfbc68b5c326",
   "metadata": {},
   "outputs": [],
   "source": [
    "#Alice vuole mandare i bit 01 a Bob\n",
    "sdc = createEntangled()\n",
    "sdc = encode(sdc,\"11\") #Alice invia\n",
    "sdc = decode(sdc) #Bob riceve\n",
    "#misurazioniSim(sdc)\n",
    "misurazioniReal(sdc)"
   ]
  }
 ],
 "metadata": {
  "kernelspec": {
   "display_name": "Qiskit v0.34.1 (ipykernel)",
   "language": "python",
   "name": "python3"
  },
  "language_info": {
   "codemirror_mode": {
    "name": "ipython",
    "version": 3
   },
   "file_extension": ".py",
   "mimetype": "text/x-python",
   "name": "python",
   "nbconvert_exporter": "python",
   "pygments_lexer": "ipython3",
   "version": "3.8.12"
  },
  "widgets": {
   "application/vnd.jupyter.widget-state+json": {
    "state": {
     "001bdf7e9e7d4981a4ba9eaedec994f8": {
      "model_module": "@jupyter-widgets/controls",
      "model_module_version": "1.5.0",
      "model_name": "HTMLModel",
      "state": {
       "layout": "IPY_MODEL_69987dea52a7453091f16717bd16119a",
       "style": "IPY_MODEL_1bac368ea47542d5a669e550fec9bfd7",
       "value": "<h5>Status</h5>"
      }
     },
     "01ab296ab2154dc6961ca35b50d10701": {
      "model_module": "@jupyter-widgets/base",
      "model_module_version": "1.2.0",
      "model_name": "LayoutModel",
      "state": {
       "width": "145px"
      }
     },
     "05f0c9b8bcce4822ba11f3a09087aa41": {
      "model_module": "@jupyter-widgets/base",
      "model_module_version": "1.2.0",
      "model_name": "LayoutModel",
      "state": {
       "width": "70px"
      }
     },
     "0721785ef45f4f6182e0cf54055a12b3": {
      "model_module": "@jupyter-widgets/base",
      "model_module_version": "1.2.0",
      "model_name": "LayoutModel",
      "state": {
       "max_width": "700px",
       "min_width": "700px"
      }
     },
     "0a5706337b89442ea5cdc967e31edb7b": {
      "model_module": "@jupyter-widgets/controls",
      "model_module_version": "1.5.0",
      "model_name": "HTMLModel",
      "state": {
       "layout": "IPY_MODEL_01ab296ab2154dc6961ca35b50d10701",
       "style": "IPY_MODEL_698d449990a64ecbad64cb502941d2c6",
       "value": "ibmq_manila"
      }
     },
     "0ab122139a1640d1be6b60b8e35573bf": {
      "model_module": "@jupyter-widgets/base",
      "model_module_version": "1.2.0",
      "model_name": "LayoutModel",
      "state": {
       "margin": "0px 0px 0px 37px",
       "width": "600px"
      }
     },
     "0de2c684ecdd4302a9bea8cb0177ce2d": {
      "model_module": "@jupyter-widgets/base",
      "model_module_version": "1.2.0",
      "model_name": "LayoutModel",
      "state": {
       "overflow_x": "scroll"
      }
     },
     "0e93cdb8cb5c4cfd8fd6accdb03af9ff": {
      "model_module": "@jupyter-widgets/controls",
      "model_module_version": "1.5.0",
      "model_name": "DescriptionStyleModel",
      "state": {
       "description_width": ""
      }
     },
     "0f8d7a4290194c5cb1510ce1dc129fc5": {
      "model_module": "@jupyter-widgets/controls",
      "model_module_version": "1.5.0",
      "model_name": "DescriptionStyleModel",
      "state": {
       "description_width": ""
      }
     },
     "103a9edc581948cc84241971ceaa10b2": {
      "model_module": "@jupyter-widgets/controls",
      "model_module_version": "1.5.0",
      "model_name": "DescriptionStyleModel",
      "state": {
       "description_width": ""
      }
     },
     "1349f7f7043842a8be57abb59e376f43": {
      "model_module": "@jupyter-widgets/controls",
      "model_module_version": "1.5.0",
      "model_name": "HBoxModel",
      "state": {
       "children": [
        "IPY_MODEL_79ee4451453f4670953bb64e0f475546",
        "IPY_MODEL_67338579bb164324b0aa9c3bf29c87cf",
        "IPY_MODEL_1f66eeb461b64d81823f4c8a681cc17a",
        "IPY_MODEL_1420ad0c28d94e6f9dd0c2265b8ec916",
        "IPY_MODEL_d4bc2abf72a6444db0f27cf047c0ec64",
        "IPY_MODEL_24c9aa19500b496ea5a2db1e73a0cdab"
       ],
       "layout": "IPY_MODEL_b0c89e04c53a431fb6bbf5398f459f92"
      }
     },
     "1420ad0c28d94e6f9dd0c2265b8ec916": {
      "model_module": "@jupyter-widgets/controls",
      "model_module_version": "1.5.0",
      "model_name": "HTMLModel",
      "state": {
       "layout": "IPY_MODEL_e1f75dcb38ed437d925fa9f88cefa73d",
       "style": "IPY_MODEL_6497764d4d4648ba9344ce2851ea017c",
       "value": "<font style='color:#34BC6E'>DONE</font>"
      }
     },
     "19923d0d96be4d559d207521dad48c88": {
      "model_module": "@jupyter-widgets/controls",
      "model_module_version": "1.5.0",
      "model_name": "HTMLModel",
      "state": {
       "layout": "IPY_MODEL_c7c583b30a4e420082bb45abb13fb7ad",
       "style": "IPY_MODEL_30a46c3c7d614d38bb1d18040c800cc5",
       "value": "61e2f5dca90e533d337361cd"
      }
     },
     "1ab8ae3336734a45a896fe9035d96872": {
      "model_module": "@jupyter-widgets/controls",
      "model_module_version": "1.5.0",
      "model_name": "DescriptionStyleModel",
      "state": {
       "description_width": ""
      }
     },
     "1bac368ea47542d5a669e550fec9bfd7": {
      "model_module": "@jupyter-widgets/controls",
      "model_module_version": "1.5.0",
      "model_name": "DescriptionStyleModel",
      "state": {
       "description_width": ""
      }
     },
     "1f66eeb461b64d81823f4c8a681cc17a": {
      "model_module": "@jupyter-widgets/controls",
      "model_module_version": "1.5.0",
      "model_name": "HTMLModel",
      "state": {
       "layout": "IPY_MODEL_a28792d0284c4fffab0f4b6313c05047",
       "style": "IPY_MODEL_292aaa162cfe4b4783289307e2fcfb90",
       "value": "ibmq_manila"
      }
     },
     "2110a82d262a42cdbab05c078c64cb0c": {
      "model_module": "@jupyter-widgets/base",
      "model_module_version": "1.2.0",
      "model_name": "LayoutModel",
      "state": {
       "width": "190px"
      }
     },
     "230429b6941c46368fa245550d749860": {
      "model_module": "@jupyter-widgets/controls",
      "model_module_version": "1.5.0",
      "model_name": "HBoxModel",
      "state": {
       "children": [
        "IPY_MODEL_6426600b31484fffba54a664db8664e9",
        "IPY_MODEL_aa13db3384c04bebb3f7f590a89f5ffb",
        "IPY_MODEL_0a5706337b89442ea5cdc967e31edb7b",
        "IPY_MODEL_43269f0a8844498a92e24b011a1f9640",
        "IPY_MODEL_a24ae6e1cb2d4b5db3932e9786fd65b6",
        "IPY_MODEL_9e585202f6374adb83c2efe66c39ae88"
       ],
       "layout": "IPY_MODEL_0721785ef45f4f6182e0cf54055a12b3"
      }
     },
     "23155d9c792b4ecb927268fce0213501": {
      "model_module": "@jupyter-widgets/controls",
      "model_module_version": "1.5.0",
      "model_name": "ButtonStyleModel",
      "state": {}
     },
     "24422c05db0a4122acfd54005090eeb7": {
      "model_module": "@jupyter-widgets/base",
      "model_module_version": "1.2.0",
      "model_name": "LayoutModel",
      "state": {
       "width": "70px"
      }
     },
     "24c9aa19500b496ea5a2db1e73a0cdab": {
      "model_module": "@jupyter-widgets/controls",
      "model_module_version": "1.5.0",
      "model_name": "HTMLModel",
      "state": {
       "layout": "IPY_MODEL_8c1de3f0f8184cf695584da92dd45567",
       "style": "IPY_MODEL_b5d1eabf30fb4312b311654ae8a86faf",
       "value": "job has successfully run"
      }
     },
     "292aaa162cfe4b4783289307e2fcfb90": {
      "model_module": "@jupyter-widgets/controls",
      "model_module_version": "1.5.0",
      "model_name": "DescriptionStyleModel",
      "state": {
       "description_width": ""
      }
     },
     "2ae7b0bc94cb4963afa85a0eaa85888a": {
      "model_module": "@jupyter-widgets/base",
      "model_module_version": "1.2.0",
      "model_name": "LayoutModel",
      "state": {
       "width": "95px"
      }
     },
     "2e25f23d469c46a2824781e848e73f4f": {
      "model_module": "@jupyter-widgets/controls",
      "model_module_version": "1.5.0",
      "model_name": "HTMLModel",
      "state": {
       "layout": "IPY_MODEL_c60bd7fa5e6648f4becdd1808e349504",
       "style": "IPY_MODEL_6c811c1982c9488e8f9e08a2c696312d",
       "value": "<p style='font-family: IBM Plex Sans, Arial, Helvetica, sans-serif; font-size: 20px; font-weight: medium;'>Circuit Properties</p>"
      }
     },
     "30a46c3c7d614d38bb1d18040c800cc5": {
      "model_module": "@jupyter-widgets/controls",
      "model_module_version": "1.5.0",
      "model_name": "DescriptionStyleModel",
      "state": {
       "description_width": ""
      }
     },
     "32ded97d71ae4fe6b3104890eff37abc": {
      "model_module": "@jupyter-widgets/controls",
      "model_module_version": "1.5.0",
      "model_name": "DescriptionStyleModel",
      "state": {
       "description_width": ""
      }
     },
     "362f378043d043adb4c0ad9702f9fe75": {
      "model_module": "@jupyter-widgets/base",
      "model_module_version": "1.2.0",
      "model_name": "LayoutModel",
      "state": {
       "margin": "0px 5px 0px 0px",
       "width": "32px"
      }
     },
     "39056c7218824924a2f9818bbaa711be": {
      "model_module": "@jupyter-widgets/controls",
      "model_module_version": "1.5.0",
      "model_name": "DescriptionStyleModel",
      "state": {
       "description_width": ""
      }
     },
     "39a2e1fddcf3482fbaec68a29d4c1f9d": {
      "model_module": "@jupyter-widgets/controls",
      "model_module_version": "1.5.0",
      "model_name": "DescriptionStyleModel",
      "state": {
       "description_width": ""
      }
     },
     "400f042d24334b0e8c10c1f09890a318": {
      "model_module": "@jupyter-widgets/controls",
      "model_module_version": "1.5.0",
      "model_name": "HTMLModel",
      "state": {
       "layout": "IPY_MODEL_5269ff030bd046ac9b253e8e651c675a",
       "style": "IPY_MODEL_32ded97d71ae4fe6b3104890eff37abc",
       "value": "<h5>Backend</h5>"
      }
     },
     "4281b5351712406ea66755e89f7da1e7": {
      "model_module": "@jupyter-widgets/controls",
      "model_module_version": "1.5.0",
      "model_name": "HTMLModel",
      "state": {
       "layout": "IPY_MODEL_b664b5838215492fa2d68c22359523fc",
       "style": "IPY_MODEL_dc9d4e4787f940518d0b36de2246fa87",
       "value": "<h5>Job ID</h5>"
      }
     },
     "42dd6b46df48450d827e22da7db8cd89": {
      "model_module": "@jupyter-widgets/controls",
      "model_module_version": "1.5.0",
      "model_name": "ButtonModel",
      "state": {
       "icon": "close",
       "layout": "IPY_MODEL_432f111f977340cc828b583ca5cd798f",
       "style": "IPY_MODEL_53d2941f308c403a8247adcee795f237"
      }
     },
     "43269f0a8844498a92e24b011a1f9640": {
      "model_module": "@jupyter-widgets/controls",
      "model_module_version": "1.5.0",
      "model_name": "HTMLModel",
      "state": {
       "layout": "IPY_MODEL_868a4be1ff7241fe9275395bf31d0c08",
       "style": "IPY_MODEL_b534209f93bd43939627a38426a8795b",
       "value": "<font style='color:#34BC6E'>DONE</font>"
      }
     },
     "432f111f977340cc828b583ca5cd798f": {
      "model_module": "@jupyter-widgets/base",
      "model_module_version": "1.2.0",
      "model_name": "LayoutModel",
      "state": {
       "margin": "0px 5px 0px 0px",
       "width": "32px"
      }
     },
     "442cf2bb2e66453c9d95e22758df7f46": {
      "model_module": "@jupyter-widgets/controls",
      "model_module_version": "1.5.0",
      "model_name": "HTMLModel",
      "state": {
       "layout": "IPY_MODEL_24422c05db0a4122acfd54005090eeb7",
       "style": "IPY_MODEL_5d6ebfb614b74554b8d3041870f98ad5",
       "value": "-"
      }
     },
     "45e5e89ea6d94988a26c0ede4e5e1c0d": {
      "model_module": "@jupyter-widgets/base",
      "model_module_version": "1.2.0",
      "model_name": "LayoutModel",
      "state": {
       "max_width": "700px",
       "min_width": "700px"
      }
     },
     "4eea199f56d3438a94342951a8129584": {
      "model_module": "@jupyter-widgets/controls",
      "model_module_version": "1.5.0",
      "model_name": "ButtonStyleModel",
      "state": {
       "button_color": "white"
      }
     },
     "520be1e37d914de78804fd64fed263d2": {
      "model_module": "@jupyter-widgets/controls",
      "model_module_version": "1.5.0",
      "model_name": "HTMLModel",
      "state": {
       "layout": "IPY_MODEL_802629618a6e46d0b75c136a5e8971c2",
       "style": "IPY_MODEL_1ab8ae3336734a45a896fe9035d96872",
       "value": "<font style='color:#34BC6E'>DONE</font>"
      }
     },
     "5269ff030bd046ac9b253e8e651c675a": {
      "model_module": "@jupyter-widgets/base",
      "model_module_version": "1.2.0",
      "model_name": "LayoutModel",
      "state": {
       "width": "145px"
      }
     },
     "53c9fc4d23e04f63bea7c3c2fb4d4954": {
      "model_module": "@jupyter-widgets/controls",
      "model_module_version": "1.5.0",
      "model_name": "DescriptionStyleModel",
      "state": {
       "description_width": ""
      }
     },
     "53d2941f308c403a8247adcee795f237": {
      "model_module": "@jupyter-widgets/controls",
      "model_module_version": "1.5.0",
      "model_name": "ButtonStyleModel",
      "state": {
       "button_color": "white"
      }
     },
     "55349cd443a6412da862452f135e727d": {
      "model_module": "@jupyter-widgets/controls",
      "model_module_version": "1.5.0",
      "model_name": "DescriptionStyleModel",
      "state": {
       "description_width": ""
      }
     },
     "5836d3015474445292a8ea0cbda36810": {
      "model_module": "@jupyter-widgets/controls",
      "model_module_version": "1.5.0",
      "model_name": "ButtonStyleModel",
      "state": {
       "button_color": "white"
      }
     },
     "5d6ebfb614b74554b8d3041870f98ad5": {
      "model_module": "@jupyter-widgets/controls",
      "model_module_version": "1.5.0",
      "model_name": "DescriptionStyleModel",
      "state": {
       "description_width": ""
      }
     },
     "5f8a5702ec3a49daa8aaa0031e80a45f": {
      "model_module": "@jupyter-widgets/controls",
      "model_module_version": "1.5.0",
      "model_name": "HTMLModel",
      "state": {
       "layout": "IPY_MODEL_e13b4315146242c28efa3e402b8cf320",
       "style": "IPY_MODEL_db5a4164c664472297196331b42b1e3d",
       "value": "job has successfully run"
      }
     },
     "5ff4d735cc5b49b5836e1f0b432544a2": {
      "model_module": "@jupyter-widgets/controls",
      "model_module_version": "1.5.0",
      "model_name": "HTMLModel",
      "state": {
       "layout": "IPY_MODEL_2ae7b0bc94cb4963afa85a0eaa85888a",
       "style": "IPY_MODEL_d1fac0989cc94c01b066f1e87d45349d",
       "value": "<font style='color:#34BC6E'>DONE</font>"
      }
     },
     "6426600b31484fffba54a664db8664e9": {
      "model_module": "@jupyter-widgets/controls",
      "model_module_version": "1.5.0",
      "model_name": "ButtonModel",
      "state": {
       "icon": "close",
       "layout": "IPY_MODEL_362f378043d043adb4c0ad9702f9fe75",
       "style": "IPY_MODEL_4eea199f56d3438a94342951a8129584"
      }
     },
     "6497764d4d4648ba9344ce2851ea017c": {
      "model_module": "@jupyter-widgets/controls",
      "model_module_version": "1.5.0",
      "model_name": "DescriptionStyleModel",
      "state": {
       "description_width": ""
      }
     },
     "66eb389fef3a4d3aaa037c51a748264c": {
      "model_module": "@jupyter-widgets/base",
      "model_module_version": "1.2.0",
      "model_name": "LayoutModel",
      "state": {
       "grid_area": "right",
       "padding": "0px 0px 0px 0px",
       "width": "70px"
      }
     },
     "67338579bb164324b0aa9c3bf29c87cf": {
      "model_module": "@jupyter-widgets/controls",
      "model_module_version": "1.5.0",
      "model_name": "HTMLModel",
      "state": {
       "layout": "IPY_MODEL_be042e4770a44825a65d408c5e9ed6d4",
       "style": "IPY_MODEL_103a9edc581948cc84241971ceaa10b2",
       "value": "61e2f43ab9245565500962d1"
      }
     },
     "698d449990a64ecbad64cb502941d2c6": {
      "model_module": "@jupyter-widgets/controls",
      "model_module_version": "1.5.0",
      "model_name": "DescriptionStyleModel",
      "state": {
       "description_width": ""
      }
     },
     "69987dea52a7453091f16717bd16119a": {
      "model_module": "@jupyter-widgets/base",
      "model_module_version": "1.2.0",
      "model_name": "LayoutModel",
      "state": {
       "width": "95px"
      }
     },
     "6c811c1982c9488e8f9e08a2c696312d": {
      "model_module": "@jupyter-widgets/controls",
      "model_module_version": "1.5.0",
      "model_name": "DescriptionStyleModel",
      "state": {
       "description_width": ""
      }
     },
     "6e09329d50ec4719a512ad33d7348c31": {
      "model_module": "@jupyter-widgets/controls",
      "model_module_version": "1.5.0",
      "model_name": "ButtonStyleModel",
      "state": {
       "button_color": "white"
      }
     },
     "6fc0007b54e947dd84fb456b17683a98": {
      "model_module": "@jupyter-widgets/controls",
      "model_module_version": "1.5.0",
      "model_name": "ButtonModel",
      "state": {
       "icon": "close",
       "layout": "IPY_MODEL_7460d7b4ad224fb9887b16174e51276a",
       "style": "IPY_MODEL_6e09329d50ec4719a512ad33d7348c31"
      }
     },
     "7460d7b4ad224fb9887b16174e51276a": {
      "model_module": "@jupyter-widgets/base",
      "model_module_version": "1.2.0",
      "model_name": "LayoutModel",
      "state": {
       "margin": "0px 5px 0px 0px",
       "width": "32px"
      }
     },
     "7661ed3107a349ad8469fdccc811ee8b": {
      "model_module": "@jupyter-widgets/controls",
      "model_module_version": "1.5.0",
      "model_name": "HBoxModel",
      "state": {
       "children": [
        "IPY_MODEL_4281b5351712406ea66755e89f7da1e7",
        "IPY_MODEL_400f042d24334b0e8c10c1f09890a318",
        "IPY_MODEL_001bdf7e9e7d4981a4ba9eaedec994f8",
        "IPY_MODEL_abcb1989b29640b38917ffc52c264d4a",
        "IPY_MODEL_861b12cf48fe442d9c51a022014c6c6a"
       ],
       "layout": "IPY_MODEL_0ab122139a1640d1be6b60b8e35573bf"
      }
     },
     "77373b7f36bf4a47bc11fdac05457103": {
      "model_module": "@jupyter-widgets/base",
      "model_module_version": "1.2.0",
      "model_name": "LayoutModel",
      "state": {
       "width": "190px"
      }
     },
     "79ee4451453f4670953bb64e0f475546": {
      "model_module": "@jupyter-widgets/controls",
      "model_module_version": "1.5.0",
      "model_name": "ButtonModel",
      "state": {
       "icon": "close",
       "layout": "IPY_MODEL_a3abbd442cd845ed88d6d66fb83beff0",
       "style": "IPY_MODEL_5836d3015474445292a8ea0cbda36810"
      }
     },
     "7f2a1952f6a643a092e413a210530d7f": {
      "model_module": "@jupyter-widgets/base",
      "model_module_version": "1.2.0",
      "model_name": "LayoutModel",
      "state": {
       "width": "70px"
      }
     },
     "802629618a6e46d0b75c136a5e8971c2": {
      "model_module": "@jupyter-widgets/base",
      "model_module_version": "1.2.0",
      "model_name": "LayoutModel",
      "state": {
       "width": "95px"
      }
     },
     "808ba6a3b8da4783bd1d068728324544": {
      "model_module": "@jupyter-widgets/base",
      "model_module_version": "1.2.0",
      "model_name": "LayoutModel",
      "state": {
       "width": "145px"
      }
     },
     "861b12cf48fe442d9c51a022014c6c6a": {
      "model_module": "@jupyter-widgets/controls",
      "model_module_version": "1.5.0",
      "model_name": "HTMLModel",
      "state": {
       "layout": "IPY_MODEL_dc3149a583994a73bf8f86cb2d98a51c",
       "style": "IPY_MODEL_a594aede8ec9466a938f323069e9f96a",
       "value": "<h5>Message</h5>"
      }
     },
     "868a4be1ff7241fe9275395bf31d0c08": {
      "model_module": "@jupyter-widgets/base",
      "model_module_version": "1.2.0",
      "model_name": "LayoutModel",
      "state": {
       "width": "95px"
      }
     },
     "8c1de3f0f8184cf695584da92dd45567": {
      "model_module": "@jupyter-widgets/base",
      "model_module_version": "1.2.0",
      "model_name": "LayoutModel",
      "state": {
       "overflow_x": "scroll"
      }
     },
     "92e21b7f2db64d358f994382ec2d91b1": {
      "model_module": "@jupyter-widgets/controls",
      "model_module_version": "1.5.0",
      "model_name": "ButtonModel",
      "state": {
       "button_style": "primary",
       "description": "Clear",
       "layout": "IPY_MODEL_66eb389fef3a4d3aaa037c51a748264c",
       "style": "IPY_MODEL_23155d9c792b4ecb927268fce0213501"
      }
     },
     "9ade47f7aeb14ae281458eb052aec2c0": {
      "model_module": "@jupyter-widgets/controls",
      "model_module_version": "1.5.0",
      "model_name": "DescriptionStyleModel",
      "state": {
       "description_width": ""
      }
     },
     "9bcd6b909fb34c4880f1c032917cb615": {
      "model_module": "@jupyter-widgets/controls",
      "model_module_version": "1.5.0",
      "model_name": "DescriptionStyleModel",
      "state": {
       "description_width": ""
      }
     },
     "9cb0261133d248d3b7ae68c8e864de1f": {
      "model_module": "@jupyter-widgets/base",
      "model_module_version": "1.2.0",
      "model_name": "LayoutModel",
      "state": {
       "overflow_x": "scroll"
      }
     },
     "9e585202f6374adb83c2efe66c39ae88": {
      "model_module": "@jupyter-widgets/controls",
      "model_module_version": "1.5.0",
      "model_name": "HTMLModel",
      "state": {
       "layout": "IPY_MODEL_0de2c684ecdd4302a9bea8cb0177ce2d",
       "style": "IPY_MODEL_0f8d7a4290194c5cb1510ce1dc129fc5",
       "value": "job has successfully run"
      }
     },
     "9f970246745c4a1d8e7e9efdb0af502f": {
      "model_module": "@jupyter-widgets/controls",
      "model_module_version": "1.5.0",
      "model_name": "HTMLModel",
      "state": {
       "layout": "IPY_MODEL_d536409791754dfaa3685901950c827e",
       "style": "IPY_MODEL_9bcd6b909fb34c4880f1c032917cb615",
       "value": "-"
      }
     },
     "a24ae6e1cb2d4b5db3932e9786fd65b6": {
      "model_module": "@jupyter-widgets/controls",
      "model_module_version": "1.5.0",
      "model_name": "HTMLModel",
      "state": {
       "layout": "IPY_MODEL_05f0c9b8bcce4822ba11f3a09087aa41",
       "style": "IPY_MODEL_0e93cdb8cb5c4cfd8fd6accdb03af9ff",
       "value": "-"
      }
     },
     "a28792d0284c4fffab0f4b6313c05047": {
      "model_module": "@jupyter-widgets/base",
      "model_module_version": "1.2.0",
      "model_name": "LayoutModel",
      "state": {
       "width": "145px"
      }
     },
     "a3abbd442cd845ed88d6d66fb83beff0": {
      "model_module": "@jupyter-widgets/base",
      "model_module_version": "1.2.0",
      "model_name": "LayoutModel",
      "state": {
       "margin": "0px 5px 0px 0px",
       "width": "32px"
      }
     },
     "a594aede8ec9466a938f323069e9f96a": {
      "model_module": "@jupyter-widgets/controls",
      "model_module_version": "1.5.0",
      "model_name": "DescriptionStyleModel",
      "state": {
       "description_width": ""
      }
     },
     "aa13db3384c04bebb3f7f590a89f5ffb": {
      "model_module": "@jupyter-widgets/controls",
      "model_module_version": "1.5.0",
      "model_name": "HTMLModel",
      "state": {
       "layout": "IPY_MODEL_2110a82d262a42cdbab05c078c64cb0c",
       "style": "IPY_MODEL_53c9fc4d23e04f63bea7c3c2fb4d4954",
       "value": "61e2ef7eb9245518310962bb"
      }
     },
     "abcb1989b29640b38917ffc52c264d4a": {
      "model_module": "@jupyter-widgets/controls",
      "model_module_version": "1.5.0",
      "model_name": "HTMLModel",
      "state": {
       "layout": "IPY_MODEL_d24af48969ee45438a40f9ba235a52b7",
       "style": "IPY_MODEL_9ade47f7aeb14ae281458eb052aec2c0",
       "value": "<h5>Queue</h5>"
      }
     },
     "b0c89e04c53a431fb6bbf5398f459f92": {
      "model_module": "@jupyter-widgets/base",
      "model_module_version": "1.2.0",
      "model_name": "LayoutModel",
      "state": {
       "max_width": "700px",
       "min_width": "700px"
      }
     },
     "b2e3fb780efa441a82462f60e6d38f77": {
      "model_module": "@jupyter-widgets/controls",
      "model_module_version": "1.5.0",
      "model_name": "HBoxModel",
      "state": {
       "children": [
        "IPY_MODEL_42dd6b46df48450d827e22da7db8cd89",
        "IPY_MODEL_e9908f3c1eaf4da2bf780aa0d388bff8",
        "IPY_MODEL_fd097115644e4d73a1429c2cdc448bf0",
        "IPY_MODEL_5ff4d735cc5b49b5836e1f0b432544a2",
        "IPY_MODEL_9f970246745c4a1d8e7e9efdb0af502f",
        "IPY_MODEL_5f8a5702ec3a49daa8aaa0031e80a45f"
       ],
       "layout": "IPY_MODEL_45e5e89ea6d94988a26c0ede4e5e1c0d"
      }
     },
     "b534209f93bd43939627a38426a8795b": {
      "model_module": "@jupyter-widgets/controls",
      "model_module_version": "1.5.0",
      "model_name": "DescriptionStyleModel",
      "state": {
       "description_width": ""
      }
     },
     "b5d1eabf30fb4312b311654ae8a86faf": {
      "model_module": "@jupyter-widgets/controls",
      "model_module_version": "1.5.0",
      "model_name": "DescriptionStyleModel",
      "state": {
       "description_width": ""
      }
     },
     "b664b5838215492fa2d68c22359523fc": {
      "model_module": "@jupyter-widgets/base",
      "model_module_version": "1.2.0",
      "model_name": "LayoutModel",
      "state": {
       "width": "190px"
      }
     },
     "b8482bfb255e4e89a1f231bf5c4653df": {
      "model_module": "@jupyter-widgets/controls",
      "model_module_version": "1.5.0",
      "model_name": "GridBoxModel",
      "state": {
       "children": [
        "IPY_MODEL_92e21b7f2db64d358f994382ec2d91b1"
       ],
       "layout": "IPY_MODEL_dc7ef7ca3370416286fae1d71f2f75b0"
      }
     },
     "b8b1864c782a45668acc2f8a5dc1d4d4": {
      "model_module": "@jupyter-widgets/controls",
      "model_module_version": "1.5.0",
      "model_name": "DescriptionStyleModel",
      "state": {
       "description_width": ""
      }
     },
     "b92dd91e01234fb380bba69f42a8df09": {
      "model_module": "@jupyter-widgets/controls",
      "model_module_version": "1.5.0",
      "model_name": "HTMLModel",
      "state": {
       "layout": "IPY_MODEL_9cb0261133d248d3b7ae68c8e864de1f",
       "style": "IPY_MODEL_39a2e1fddcf3482fbaec68a29d4c1f9d",
       "value": "job has successfully run"
      }
     },
     "be042e4770a44825a65d408c5e9ed6d4": {
      "model_module": "@jupyter-widgets/base",
      "model_module_version": "1.2.0",
      "model_name": "LayoutModel",
      "state": {
       "width": "190px"
      }
     },
     "c60bd7fa5e6648f4becdd1808e349504": {
      "model_module": "@jupyter-widgets/base",
      "model_module_version": "1.2.0",
      "model_name": "LayoutModel",
      "state": {
       "margin": "0px 0px 10px 0px"
      }
     },
     "c7c583b30a4e420082bb45abb13fb7ad": {
      "model_module": "@jupyter-widgets/base",
      "model_module_version": "1.2.0",
      "model_name": "LayoutModel",
      "state": {
       "width": "190px"
      }
     },
     "d1fac0989cc94c01b066f1e87d45349d": {
      "model_module": "@jupyter-widgets/controls",
      "model_module_version": "1.5.0",
      "model_name": "DescriptionStyleModel",
      "state": {
       "description_width": ""
      }
     },
     "d24af48969ee45438a40f9ba235a52b7": {
      "model_module": "@jupyter-widgets/base",
      "model_module_version": "1.2.0",
      "model_name": "LayoutModel",
      "state": {
       "width": "70px"
      }
     },
     "d4bc2abf72a6444db0f27cf047c0ec64": {
      "model_module": "@jupyter-widgets/controls",
      "model_module_version": "1.5.0",
      "model_name": "HTMLModel",
      "state": {
       "layout": "IPY_MODEL_7f2a1952f6a643a092e413a210530d7f",
       "style": "IPY_MODEL_39056c7218824924a2f9818bbaa711be",
       "value": "-"
      }
     },
     "d536409791754dfaa3685901950c827e": {
      "model_module": "@jupyter-widgets/base",
      "model_module_version": "1.2.0",
      "model_name": "LayoutModel",
      "state": {
       "width": "70px"
      }
     },
     "db5a4164c664472297196331b42b1e3d": {
      "model_module": "@jupyter-widgets/controls",
      "model_module_version": "1.5.0",
      "model_name": "DescriptionStyleModel",
      "state": {
       "description_width": ""
      }
     },
     "dc3149a583994a73bf8f86cb2d98a51c": {
      "model_module": "@jupyter-widgets/base",
      "model_module_version": "1.2.0",
      "model_name": "LayoutModel",
      "state": {}
     },
     "dc7ef7ca3370416286fae1d71f2f75b0": {
      "model_module": "@jupyter-widgets/base",
      "model_module_version": "1.2.0",
      "model_name": "LayoutModel",
      "state": {
       "grid_template_areas": "\n                                       \". . . . right \"\n                                        ",
       "grid_template_columns": "20% 20% 20% 20% 20%",
       "width": "100%"
      }
     },
     "dc9d4e4787f940518d0b36de2246fa87": {
      "model_module": "@jupyter-widgets/controls",
      "model_module_version": "1.5.0",
      "model_name": "DescriptionStyleModel",
      "state": {
       "description_width": ""
      }
     },
     "e13b4315146242c28efa3e402b8cf320": {
      "model_module": "@jupyter-widgets/base",
      "model_module_version": "1.2.0",
      "model_name": "LayoutModel",
      "state": {
       "overflow_x": "scroll"
      }
     },
     "e1f75dcb38ed437d925fa9f88cefa73d": {
      "model_module": "@jupyter-widgets/base",
      "model_module_version": "1.2.0",
      "model_name": "LayoutModel",
      "state": {
       "width": "95px"
      }
     },
     "e5d77b7cc54b488ba8819b27dcc44843": {
      "model_module": "@jupyter-widgets/base",
      "model_module_version": "1.2.0",
      "model_name": "LayoutModel",
      "state": {
       "max_width": "700px",
       "min_width": "700px"
      }
     },
     "e93500adaf5e4f43a689582bbea64c3c": {
      "model_module": "@jupyter-widgets/controls",
      "model_module_version": "1.5.0",
      "model_name": "DescriptionStyleModel",
      "state": {
       "description_width": ""
      }
     },
     "e9908f3c1eaf4da2bf780aa0d388bff8": {
      "model_module": "@jupyter-widgets/controls",
      "model_module_version": "1.5.0",
      "model_name": "HTMLModel",
      "state": {
       "layout": "IPY_MODEL_77373b7f36bf4a47bc11fdac05457103",
       "style": "IPY_MODEL_e93500adaf5e4f43a689582bbea64c3c",
       "value": "61e2f4dc7d229f3cf1c7d55c"
      }
     },
     "ef313a4b07434c6ea60fd764a22f713c": {
      "model_module": "@jupyter-widgets/base",
      "model_module_version": "1.2.0",
      "model_name": "LayoutModel",
      "state": {
       "width": "145px"
      }
     },
     "f432aa41078549eea3c7a32083ec544f": {
      "model_module": "@jupyter-widgets/controls",
      "model_module_version": "1.5.0",
      "model_name": "HTMLModel",
      "state": {
       "layout": "IPY_MODEL_ef313a4b07434c6ea60fd764a22f713c",
       "style": "IPY_MODEL_55349cd443a6412da862452f135e727d",
       "value": "ibmq_manila"
      }
     },
     "f55c417acac84f4894822483641d4d25": {
      "model_module": "@jupyter-widgets/controls",
      "model_module_version": "1.5.0",
      "model_name": "HBoxModel",
      "state": {
       "children": [
        "IPY_MODEL_6fc0007b54e947dd84fb456b17683a98",
        "IPY_MODEL_19923d0d96be4d559d207521dad48c88",
        "IPY_MODEL_f432aa41078549eea3c7a32083ec544f",
        "IPY_MODEL_520be1e37d914de78804fd64fed263d2",
        "IPY_MODEL_442cf2bb2e66453c9d95e22758df7f46",
        "IPY_MODEL_b92dd91e01234fb380bba69f42a8df09"
       ],
       "layout": "IPY_MODEL_e5d77b7cc54b488ba8819b27dcc44843"
      }
     },
     "fd097115644e4d73a1429c2cdc448bf0": {
      "model_module": "@jupyter-widgets/controls",
      "model_module_version": "1.5.0",
      "model_name": "HTMLModel",
      "state": {
       "layout": "IPY_MODEL_808ba6a3b8da4783bd1d068728324544",
       "style": "IPY_MODEL_b8b1864c782a45668acc2f8a5dc1d4d4",
       "value": "ibmq_manila"
      }
     }
    },
    "version_major": 2,
    "version_minor": 0
   }
  }
 },
 "nbformat": 4,
 "nbformat_minor": 5
}
