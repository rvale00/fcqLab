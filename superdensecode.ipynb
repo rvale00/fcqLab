{
 "cells": [
  {
   "cell_type": "code",
   "execution_count": 1,
   "id": "33de20a8-958d-42b5-9c35-6bf5848fbc3e",
   "metadata": {},
   "outputs": [],
   "source": [
    "import numpy as np\n",
    "\n",
    "# Importing standard Qiskit libraries\n",
    "from qiskit import *\n",
    "from qiskit.tools.jupyter import *\n",
    "from qiskit.visualization import *\n",
    "from ibm_quantum_widgets import *\n",
    "from qiskit.providers.aer import QasmSimulator\n",
    "from qiskit.tools.monitor import job_monitor\n",
    "from qiskit.providers.ibmq import least_busy\n",
    "\n",
    "# Loading your IBM Quantum account(s)\n",
    "\n",
    "IBMQ.save_account('fd386c9845f1931c636bff10a0f27322bd91aeca18d7716ac282c7d88e4f51a2345295d5073af63a514eabf627196edd06d60cc18892603106dc51570f042bb5', overwrite=True)\n",
    "IBMQ.load_account()\n",
    "provider = IBMQ.get_provider(hub = 'ibm-q')\n",
    "device = least_busy(provider.backends(filters=lambda x: x.configuration().n_qubits >= 2 \n",
    "                                       and not x.configuration().simulator \n",
    "                                       and x.status().operational==True))\n",
    "\n",
    "\n"
   ]
  },
  {
   "cell_type": "code",
   "execution_count": 2,
   "id": "02da092f-833a-48da-985b-765e97a99c60",
   "metadata": {},
   "outputs": [],
   "source": [
    "def createEntangled():\n",
    "    es = QuantumCircuit(2)\n",
    "    es.h(1)\n",
    "    es.cx(1, 0)\n",
    "    return es"
   ]
  },
  {
   "cell_type": "code",
   "execution_count": 3,
   "id": "09862e0c-e8c8-4bfd-aebc-aafc1435434e",
   "metadata": {},
   "outputs": [],
   "source": [
    "def decode(de):\n",
    "    de.cx(1,0)\n",
    "    de.h(1)\n",
    "    return de"
   ]
  },
  {
   "cell_type": "code",
   "execution_count": 4,
   "id": "fbc61b40-85ae-4dc8-9cbb-b8b7922c7c83",
   "metadata": {},
   "outputs": [],
   "source": [
    "def encode(sdc,msg):\n",
    "    if msg == \"00\":\n",
    "        sdc.i(1)\n",
    "        return sdc\n",
    "    elif msg == \"01\":\n",
    "        sdc.z(1)\n",
    "        return sdc\n",
    "    elif msg == \"10\":\n",
    "        sdc.x(1)\n",
    "        return sdc\n",
    "    else :\n",
    "        sdc.y(1)\n",
    "        return sdc\n",
    "    "
   ]
  },
  {
   "cell_type": "code",
   "execution_count": null,
   "id": "8ec66ee4-b13b-4c83-a98a-97c3baf3d549",
   "metadata": {},
   "outputs": [],
   "source": [
    "def misurazioniSim(sdc):\n",
    "    sdc.measure_all()\n",
    "    aer_sim = Aer.get_backend('aer_simulator')\n",
    "    result = aer_sim.run(sdc).result()\n",
    "    counts = result.get_counts(sdc)\n",
    "    plot_histogram(counts)"
   ]
  },
  {
   "cell_type": "code",
   "execution_count": 6,
   "id": "c7de5946-2493-4001-80b9-d95938b7e42c",
   "metadata": {
    "tags": []
   },
   "outputs": [],
   "source": [
    "def misurazioniReal(sdc):\n",
    "    sdc.measure_all()\n",
    "    job = execute(sdc,backend = device,shots = 1024)\n",
    "    print(job.job_id())\n",
    "    job_monitor(job)\n",
    "    device_result = job.result()\n",
    "    plot_histogram(device_result.get_counts(sdc))\n"
   ]
  },
  {
   "cell_type": "code",
   "execution_count": 9,
   "id": "b13f6d0c-0cdb-4107-94c0-f592817dbeb4",
   "metadata": {},
   "outputs": [],
   "source": [
    "#Alice vuole mandare i bit 00 a Bob\n",
    "sdc = createEntangled()\n",
    "sdc = encode(sdc,\"00\") #Alice invia\n",
    "sdc = decode(sdc) #Bob riceve\n"
   ]
  },
  {
   "cell_type": "code",
   "execution_count": 10,
   "id": "1830e1bd-4b8c-4a47-b1f6-2cf709a5f69c",
   "metadata": {},
   "outputs": [
    {
     "name": "stdout",
     "output_type": "stream",
     "text": [
      "{'00': 1024}\n"
     ]
    }
   ],
   "source": [
    "misurazioniSim(sdc)"
   ]
  },
  {
   "cell_type": "code",
   "execution_count": 11,
   "id": "921fc0ea-b8a0-4ad8-adef-de808c1377a3",
   "metadata": {},
   "outputs": [
    {
     "name": "stdout",
     "output_type": "stream",
     "text": [
      "61e30915a90e53646c736239\n",
      "Job Status: job has been cancelled\n",
      "Traceback \u001b[1;36m(most recent call last)\u001b[0m:\n",
      "  Input \u001b[0;32mIn [11]\u001b[0m in \u001b[0;35m<module>\u001b[0m\n",
      "    misurazioniReal(sdc)\n",
      "  Input \u001b[0;32mIn [6]\u001b[0m in \u001b[0;35mmisurazioniReal\u001b[0m\n",
      "    device_result = job.result()\n",
      "\u001b[1;36m  File \u001b[1;32m/opt/conda/lib/python3.8/site-packages/qiskit/providers/ibmq/job/ibmqjob.py:279\u001b[1;36m in \u001b[1;35mresult\u001b[1;36m\u001b[0m\n",
      "\u001b[1;33m    raise IBMQJobInvalidStateError('Unable to retrieve result for job {}. '\u001b[0m\n",
      "\u001b[1;31mIBMQJobInvalidStateError\u001b[0m\u001b[1;31m:\u001b[0m 'Unable to retrieve result for job 61e30915a90e53646c736239. Job was cancelled.'\n",
      "\n",
      "Use %tb to get the full traceback.\n"
     ]
    },
    {
     "data": {
      "text/html": [
       "\n",
       "<style>\n",
       ".button {\n",
       "  border: none;\n",
       "  color: white;\n",
       "  padding: 4px 8px;\n",
       "  text-align: center;\n",
       "  text-decoration: none;\n",
       "  display: inline-block;\n",
       "  font-size: 12px;\n",
       "  margin: 4px 2px;\n",
       "  transition-duration: 0.2s;\n",
       "  cursor: pointer;\n",
       "}\n",
       ".iqx-button {\n",
       "  background-color: #0f62fe; \n",
       "  color: white; \n",
       "}\n",
       ".iqx-button:hover {\n",
       "  background-color: #0043ce;\n",
       "  color: white;\n",
       "}\n",
       "</style>\n",
       "<a href=\"https://stackoverflow.com/search?q=IBMQJobInvalidStateError: Unable to retrieve result for job 61e30915a90e53646c736239. Job was cancelled.\" target='_blank'><button class='button iqx-button'>Search for solution online</button></a>\n"
      ],
      "text/plain": [
       "<IPython.core.display.HTML object>"
      ]
     },
     "metadata": {},
     "output_type": "display_data"
    }
   ],
   "source": [
    "misurazioniReal(sdc)"
   ]
  },
  {
   "cell_type": "code",
   "execution_count": 12,
   "id": "e4c849c8-c8ea-4fbf-b1e9-db30f53ca81a",
   "metadata": {},
   "outputs": [
    {
     "name": "stdout",
     "output_type": "stream",
     "text": [
      "61e302bc84e3d2e38f35fd2e\n",
      "Job Status: job has successfully run\n",
      "Traceback \u001b[1;36m(most recent call last)\u001b[0m:\n",
      "  Input \u001b[0;32mIn [12]\u001b[0m in \u001b[0;35m<module>\u001b[0m\n",
      "    misurazioniReal(sdc)\n",
      "  Input \u001b[0;32mIn [11]\u001b[0m in \u001b[0;35mmisurazioniReal\u001b[0m\n",
      "    plot_histogram(device_result.get_counts())\n",
      "\u001b[1;36m  File \u001b[1;32m/opt/conda/lib/python3.8/site-packages/qiskit/visualization/counts_visualization.py:222\u001b[1;36m in \u001b[1;35mplot_histogram\u001b[1;36m\u001b[0m\n",
      "\u001b[1;33m    ax.set_ylim([0.0, min([1.2, max(1.2 * val for val in all_vals)])])\u001b[0m\n",
      "\u001b[1;31mValueError\u001b[0m\u001b[1;31m:\u001b[0m max() arg is an empty sequence\n",
      "\n",
      "Use %tb to get the full traceback.\n"
     ]
    },
    {
     "data": {
      "text/html": [
       "\n",
       "<style>\n",
       ".button {\n",
       "  border: none;\n",
       "  color: white;\n",
       "  padding: 4px 8px;\n",
       "  text-align: center;\n",
       "  text-decoration: none;\n",
       "  display: inline-block;\n",
       "  font-size: 12px;\n",
       "  margin: 4px 2px;\n",
       "  transition-duration: 0.2s;\n",
       "  cursor: pointer;\n",
       "}\n",
       ".iqx-button {\n",
       "  background-color: #0f62fe; \n",
       "  color: white; \n",
       "}\n",
       ".iqx-button:hover {\n",
       "  background-color: #0043ce;\n",
       "  color: white;\n",
       "}\n",
       "</style>\n",
       "<a href=\"https://stackoverflow.com/search?q=ValueError: max() arg is an empty sequence\" target='_blank'><button class='button iqx-button'>Search for solution online</button></a>\n"
      ],
      "text/plain": [
       "<IPython.core.display.HTML object>"
      ]
     },
     "metadata": {},
     "output_type": "display_data"
    },
    {
     "data": {
      "image/png": "[encoded data removed]",
      "text/plain": [
       "<Figure size 504x360 with 1 Axes>"
      ]
     },
     "metadata": {
      "needs_background": "light"
     },
     "output_type": "display_data"
    }
   ],
   "source": [
    "#Alice vuole mandare i bit 01 a Bob\n",
    "sdc = createEntangled()\n",
    "sdc = encode(sdc,\"01\") #Alice invia\n",
    "sdc = decode(sdc) #Bob riceve"
   ]
  },
  {
   "cell_type": "code",
   "execution_count": null,
   "id": "008f6e35-3a76-4b75-bf2d-c52707129e7e",
   "metadata": {},
   "outputs": [],
   "source": [
    "misurazioniSim(sdc)"
   ]
  },
  {
   "cell_type": "code",
   "execution_count": null,
   "id": "beff8541-41f4-4a55-a1a4-71cf2dc0e64c",
   "metadata": {},
   "outputs": [],
   "source": [
    "misurazioniReal(sdc)"
   ]
  },
  {
   "cell_type": "code",
   "execution_count": null,
   "id": "faf63977-6608-47b5-8328-9b2972ad75ef",
   "metadata": {},
   "outputs": [],
   "source": [
    "#Alice vuole mandare i bit 01 a Bob\n",
    "sdc = createEntangled()\n",
    "sdc = encode(sdc,\"10\") #Alice invia\n",
    "sdc = decode(sdc) #Bob riceve"
   ]
  },
  {
   "cell_type": "code",
   "execution_count": null,
   "id": "eebb85a8-d2ea-4a32-b865-41d13c9aac85",
   "metadata": {},
   "outputs": [],
   "source": [
    "misurazioniSim(sdc)"
   ]
  },
  {
   "cell_type": "code",
   "execution_count": null,
   "id": "b31614bf-b6f2-4462-a84c-af5ad1520717",
   "metadata": {},
   "outputs": [],
   "source": [
    "misurazioniReal(sdc)"
   ]
  },
  {
   "cell_type": "code",
   "execution_count": null,
   "id": "efdd51d1-667f-4485-b6aa-bfbc68b5c326",
   "metadata": {},
   "outputs": [],
   "source": [
    "#Alice vuole mandare i bit 01 a Bob\n",
    "sdc = createEntangled()\n",
    "sdc = encode(sdc,\"11\") #Alice invia\n",
    "sdc = decode(sdc) #Bob riceve"
   ]
  },
  {
   "cell_type": "code",
   "execution_count": null,
   "id": "37cc38e4-4e7f-4e84-b6f6-3bb09e765221",
   "metadata": {},
   "outputs": [],
   "source": [
    "misurazioniSim(sdc)"
   ]
  },
  {
   "cell_type": "code",
   "execution_count": null,
   "id": "ba222127-3a08-4383-83dd-03c8d9b0ddab",
   "metadata": {},
   "outputs": [],
   "source": [
    "misurazioniReal(sdc)"
   ]
  }
 ],
 "metadata": {
  "kernelspec": {
   "display_name": "Qiskit v0.34.1 (ipykernel)",
   "language": "python",
   "name": "python3"
  },
  "language_info": {
   "codemirror_mode": {
    "name": "ipython",
    "version": 3
   },
   "file_extension": ".py",
   "mimetype": "text/x-python",
   "name": "python",
   "nbconvert_exporter": "python",
   "pygments_lexer": "ipython3",
   "version": "3.8.12"
  },
  "widgets": {
   "application/vnd.jupyter.widget-state+json": {
    "state": {
     "024d52d6ca2a42a2adeba7707bb6be21": {
      "model_module": "@jupyter-widgets/controls",
      "model_module_version": "1.5.0",
      "model_name": "HTMLModel",
      "state": {
       "layout": "IPY_MODEL_2776ab4ae7734ab1be255367f9948feb",
       "style": "IPY_MODEL_bb71ba5ca3ef4fa4887b69839970ee05",
       "value": "<p style='font-family: IBM Plex Sans, Arial, Helvetica, sans-serif; font-size: 20px; font-weight: medium;'>Circuit Properties</p>"
      }
     },
     "04d70924feda46468dad862dee92fcf5": {
      "model_module": "@jupyter-widgets/controls",
      "model_module_version": "1.5.0",
      "model_name": "DescriptionStyleModel",
      "state": {
       "description_width": ""
      }
     },
     "06412aebecf64dbc80512434558d2a0b": {
      "model_module": "@jupyter-widgets/base",
      "model_module_version": "1.2.0",
      "model_name": "LayoutModel",
      "state": {
       "grid_template_areas": "\n                                       \". . . . right \"\n                                        ",
       "grid_template_columns": "20% 20% 20% 20% 20%",
       "width": "100%"
      }
     },
     "065626d1f0e549129d86dcfd946c38a3": {
      "model_module": "@jupyter-widgets/controls",
      "model_module_version": "1.5.0",
      "model_name": "DescriptionStyleModel",
      "state": {
       "description_width": ""
      }
     },
     "08958b630b48467686a49923515d544e": {
      "model_module": "@jupyter-widgets/base",
      "model_module_version": "1.2.0",
      "model_name": "LayoutModel",
      "state": {
       "width": "190px"
      }
     },
     "0db270f10aa84e7abff08ea080f7e10a": {
      "model_module": "@jupyter-widgets/controls",
      "model_module_version": "1.5.0",
      "model_name": "DescriptionStyleModel",
      "state": {
       "description_width": ""
      }
     },
     "0e319013507b494387343312503d82fe": {
      "model_module": "@jupyter-widgets/base",
      "model_module_version": "1.2.0",
      "model_name": "LayoutModel",
      "state": {
       "max_width": "700px",
       "min_width": "700px"
      }
     },
     "131877e12ac44085a3397b800e89f237": {
      "model_module": "@jupyter-widgets/base",
      "model_module_version": "1.2.0",
      "model_name": "LayoutModel",
      "state": {
       "width": "70px"
      }
     },
     "191a0fb56f4248d49ca25e2322046d66": {
      "model_module": "@jupyter-widgets/controls",
      "model_module_version": "1.5.0",
      "model_name": "ButtonModel",
      "state": {
       "icon": "close",
       "layout": "IPY_MODEL_5a7e9ad558f540e39e3fdd217943f605",
       "style": "IPY_MODEL_bd8606e0e2214086ada27e1582995cf2"
      }
     },
     "1e62afbe850b422ca9358866a551d25f": {
      "model_module": "@jupyter-widgets/base",
      "model_module_version": "1.2.0",
      "model_name": "LayoutModel",
      "state": {
       "margin": "0px 5px 0px 0px",
       "width": "32px"
      }
     },
     "236a875164f94c87b8c7e5db90157cf6": {
      "model_module": "@jupyter-widgets/controls",
      "model_module_version": "1.5.0",
      "model_name": "ButtonStyleModel",
      "state": {}
     },
     "25a80ff8cfd444e696671d7d68253d83": {
      "model_module": "@jupyter-widgets/controls",
      "model_module_version": "1.5.0",
      "model_name": "ButtonModel",
      "state": {
       "icon": "close",
       "layout": "IPY_MODEL_1e62afbe850b422ca9358866a551d25f",
       "style": "IPY_MODEL_4ff5cc5e1c124db08b4e245fb3853e31"
      }
     },
     "2776ab4ae7734ab1be255367f9948feb": {
      "model_module": "@jupyter-widgets/base",
      "model_module_version": "1.2.0",
      "model_name": "LayoutModel",
      "state": {
       "margin": "0px 0px 10px 0px"
      }
     },
     "3072bce472eb4c2aaa537e0336f9a52e": {
      "model_module": "@jupyter-widgets/base",
      "model_module_version": "1.2.0",
      "model_name": "LayoutModel",
      "state": {
       "width": "70px"
      }
     },
     "38acf54234b74e6188c4d8afbe404b35": {
      "model_module": "@jupyter-widgets/controls",
      "model_module_version": "1.5.0",
      "model_name": "DescriptionStyleModel",
      "state": {
       "description_width": ""
      }
     },
     "39f38d1418bc4e55bd24b0f0be4006d9": {
      "model_module": "@jupyter-widgets/controls",
      "model_module_version": "1.5.0",
      "model_name": "HTMLModel",
      "state": {
       "layout": "IPY_MODEL_ee61486070e749ee810b7bafe4272133",
       "style": "IPY_MODEL_cb8f2a4319e7414797fda83a923b564e",
       "value": "ibmq_manila"
      }
     },
     "4974c92f87df4eae84210cdc86fafecb": {
      "model_module": "@jupyter-widgets/controls",
      "model_module_version": "1.5.0",
      "model_name": "DescriptionStyleModel",
      "state": {
       "description_width": ""
      }
     },
     "4aacd694d9b0485aab5a9f866471534e": {
      "model_module": "@jupyter-widgets/base",
      "model_module_version": "1.2.0",
      "model_name": "LayoutModel",
      "state": {
       "width": "190px"
      }
     },
     "4ac1d79d8e1f4621b7499ec05eead114": {
      "model_module": "@jupyter-widgets/base",
      "model_module_version": "1.2.0",
      "model_name": "LayoutModel",
      "state": {
       "width": "95px"
      }
     },
     "4c56c50f03f5448b917496eec0266b81": {
      "model_module": "@jupyter-widgets/controls",
      "model_module_version": "1.5.0",
      "model_name": "DescriptionStyleModel",
      "state": {
       "description_width": ""
      }
     },
     "4ebb94c6a51044c6bedd22e079795d5f": {
      "model_module": "@jupyter-widgets/controls",
      "model_module_version": "1.5.0",
      "model_name": "HTMLModel",
      "state": {
       "layout": "IPY_MODEL_d70f9afa737b4c94863336fa748b0fde",
       "style": "IPY_MODEL_f5c35b5c59874c8fba63036c9f5807d7",
       "value": "<font style='color:#FFB000'>CANCELLED</font>"
      }
     },
     "4ff5cc5e1c124db08b4e245fb3853e31": {
      "model_module": "@jupyter-widgets/controls",
      "model_module_version": "1.5.0",
      "model_name": "ButtonStyleModel",
      "state": {
       "button_color": "white"
      }
     },
     "51126524cefa4b388d9a66773271d716": {
      "model_module": "@jupyter-widgets/controls",
      "model_module_version": "1.5.0",
      "model_name": "HBoxModel",
      "state": {
       "children": [
        "IPY_MODEL_25a80ff8cfd444e696671d7d68253d83",
        "IPY_MODEL_f3cc55a31bc54907837d73e6593d5180",
        "IPY_MODEL_7c3b8f72d74949e28007885b1a9a6760",
        "IPY_MODEL_4ebb94c6a51044c6bedd22e079795d5f",
        "IPY_MODEL_b4bdf7ff5ae5431d9b0a30558492a77f",
        "IPY_MODEL_804ddc2f660b45bda2c6b79de626f8d8"
       ],
       "layout": "IPY_MODEL_0e319013507b494387343312503d82fe"
      }
     },
     "55252e57b2254ca995af4d5be82c8eef": {
      "model_module": "@jupyter-widgets/controls",
      "model_module_version": "1.5.0",
      "model_name": "DescriptionStyleModel",
      "state": {
       "description_width": ""
      }
     },
     "5a7e9ad558f540e39e3fdd217943f605": {
      "model_module": "@jupyter-widgets/base",
      "model_module_version": "1.2.0",
      "model_name": "LayoutModel",
      "state": {
       "margin": "0px 5px 0px 0px",
       "width": "32px"
      }
     },
     "5ddc2307ee6b4d919477fd2c9cdeb0b5": {
      "model_module": "@jupyter-widgets/controls",
      "model_module_version": "1.5.0",
      "model_name": "HBoxModel",
      "state": {
       "children": [
        "IPY_MODEL_191a0fb56f4248d49ca25e2322046d66",
        "IPY_MODEL_718dff584fe945adbf900c87186d4fcc",
        "IPY_MODEL_39f38d1418bc4e55bd24b0f0be4006d9",
        "IPY_MODEL_c2f853914501410faca7e260e193b322",
        "IPY_MODEL_c2010ebbe11b48e49aebf37e4920b0ce",
        "IPY_MODEL_b0c2f3daef314d1884aed1184507239c"
       ],
       "layout": "IPY_MODEL_a6a437aa739d4582ab3e1b1a6f79b29b"
      }
     },
     "60aacbd6205e45e9843c77da78b7ac92": {
      "model_module": "@jupyter-widgets/base",
      "model_module_version": "1.2.0",
      "model_name": "LayoutModel",
      "state": {
       "margin": "0px 0px 0px 37px",
       "width": "600px"
      }
     },
     "636e9add4a0b45c3850cf73655d27137": {
      "model_module": "@jupyter-widgets/controls",
      "model_module_version": "1.5.0",
      "model_name": "HBoxModel",
      "state": {
       "children": [
        "IPY_MODEL_e5e2678997bd4745a435db5d097d24d9",
        "IPY_MODEL_c88041378ba549cab6c90b40870258fc",
        "IPY_MODEL_97eb8c5e87014d04aab03db0de167a57",
        "IPY_MODEL_a95d5101898640859d29eafa1ccb662d",
        "IPY_MODEL_fbd04029ce2a4374bf6aa1f5f370fe86"
       ],
       "layout": "IPY_MODEL_60aacbd6205e45e9843c77da78b7ac92"
      }
     },
     "68103b1a0f334cdca8437c73921f21cf": {
      "model_module": "@jupyter-widgets/base",
      "model_module_version": "1.2.0",
      "model_name": "LayoutModel",
      "state": {
       "width": "95px"
      }
     },
     "6a28611965ae41fc868de8138b931e62": {
      "model_module": "@jupyter-widgets/controls",
      "model_module_version": "1.5.0",
      "model_name": "DescriptionStyleModel",
      "state": {
       "description_width": ""
      }
     },
     "718dff584fe945adbf900c87186d4fcc": {
      "model_module": "@jupyter-widgets/controls",
      "model_module_version": "1.5.0",
      "model_name": "HTMLModel",
      "state": {
       "layout": "IPY_MODEL_74c3081ec338436da976cbd7c1e97d1c",
       "style": "IPY_MODEL_4974c92f87df4eae84210cdc86fafecb",
       "value": "61e308d723405573562a5e85"
      }
     },
     "71c7c8ba953d42168c0453ade5b9345e": {
      "model_module": "@jupyter-widgets/base",
      "model_module_version": "1.2.0",
      "model_name": "LayoutModel",
      "state": {
       "width": "145px"
      }
     },
     "74c3081ec338436da976cbd7c1e97d1c": {
      "model_module": "@jupyter-widgets/base",
      "model_module_version": "1.2.0",
      "model_name": "LayoutModel",
      "state": {
       "width": "190px"
      }
     },
     "78ac5553b36b45f59cd5b8f964fdc4f2": {
      "model_module": "@jupyter-widgets/base",
      "model_module_version": "1.2.0",
      "model_name": "LayoutModel",
      "state": {
       "width": "70px"
      }
     },
     "7c3b8f72d74949e28007885b1a9a6760": {
      "model_module": "@jupyter-widgets/controls",
      "model_module_version": "1.5.0",
      "model_name": "HTMLModel",
      "state": {
       "layout": "IPY_MODEL_ba05716e0c7745cfbc2a365740885da1",
       "style": "IPY_MODEL_6a28611965ae41fc868de8138b931e62",
       "value": "ibmq_manila"
      }
     },
     "804ddc2f660b45bda2c6b79de626f8d8": {
      "model_module": "@jupyter-widgets/controls",
      "model_module_version": "1.5.0",
      "model_name": "HTMLModel",
      "state": {
       "layout": "IPY_MODEL_9ec18a8740a14be6ad50957350cc2ee1",
       "style": "IPY_MODEL_55252e57b2254ca995af4d5be82c8eef",
       "value": "job has been cancelled"
      }
     },
     "97eb8c5e87014d04aab03db0de167a57": {
      "model_module": "@jupyter-widgets/controls",
      "model_module_version": "1.5.0",
      "model_name": "HTMLModel",
      "state": {
       "layout": "IPY_MODEL_68103b1a0f334cdca8437c73921f21cf",
       "style": "IPY_MODEL_0db270f10aa84e7abff08ea080f7e10a",
       "value": "<h5>Status</h5>"
      }
     },
     "9ec18a8740a14be6ad50957350cc2ee1": {
      "model_module": "@jupyter-widgets/base",
      "model_module_version": "1.2.0",
      "model_name": "LayoutModel",
      "state": {
       "overflow_x": "scroll"
      }
     },
     "a6a437aa739d4582ab3e1b1a6f79b29b": {
      "model_module": "@jupyter-widgets/base",
      "model_module_version": "1.2.0",
      "model_name": "LayoutModel",
      "state": {
       "max_width": "700px",
       "min_width": "700px"
      }
     },
     "a95d5101898640859d29eafa1ccb662d": {
      "model_module": "@jupyter-widgets/controls",
      "model_module_version": "1.5.0",
      "model_name": "HTMLModel",
      "state": {
       "layout": "IPY_MODEL_131877e12ac44085a3397b800e89f237",
       "style": "IPY_MODEL_38acf54234b74e6188c4d8afbe404b35",
       "value": "<h5>Queue</h5>"
      }
     },
     "ad3424fafd3c42fd9386622adf81b818": {
      "model_module": "@jupyter-widgets/base",
      "model_module_version": "1.2.0",
      "model_name": "LayoutModel",
      "state": {}
     },
     "b0c2f3daef314d1884aed1184507239c": {
      "model_module": "@jupyter-widgets/controls",
      "model_module_version": "1.5.0",
      "model_name": "HTMLModel",
      "state": {
       "layout": "IPY_MODEL_bda62d76434943e4ae414c503d246b94",
       "style": "IPY_MODEL_e4973821932048e997376bb29f304435",
       "value": "job has been cancelled"
      }
     },
     "b3fcbf2debba419d8f0d43aa8fc43e4f": {
      "model_module": "@jupyter-widgets/controls",
      "model_module_version": "1.5.0",
      "model_name": "ButtonModel",
      "state": {
       "button_style": "primary",
       "description": "Clear",
       "layout": "IPY_MODEL_c581af9eb6a1460f8f38d2269d6e6a72",
       "style": "IPY_MODEL_236a875164f94c87b8c7e5db90157cf6"
      }
     },
     "b4bdf7ff5ae5431d9b0a30558492a77f": {
      "model_module": "@jupyter-widgets/controls",
      "model_module_version": "1.5.0",
      "model_name": "HTMLModel",
      "state": {
       "layout": "IPY_MODEL_78ac5553b36b45f59cd5b8f964fdc4f2",
       "style": "IPY_MODEL_fbb4d05e94e04c07a8f296512c346552",
       "value": "-"
      }
     },
     "ba05716e0c7745cfbc2a365740885da1": {
      "model_module": "@jupyter-widgets/base",
      "model_module_version": "1.2.0",
      "model_name": "LayoutModel",
      "state": {
       "width": "145px"
      }
     },
     "baf624b97655465888742cf8db71b552": {
      "model_module": "@jupyter-widgets/controls",
      "model_module_version": "1.5.0",
      "model_name": "GridBoxModel",
      "state": {
       "children": [
        "IPY_MODEL_b3fcbf2debba419d8f0d43aa8fc43e4f"
       ],
       "layout": "IPY_MODEL_06412aebecf64dbc80512434558d2a0b"
      }
     },
     "bb71ba5ca3ef4fa4887b69839970ee05": {
      "model_module": "@jupyter-widgets/controls",
      "model_module_version": "1.5.0",
      "model_name": "DescriptionStyleModel",
      "state": {
       "description_width": ""
      }
     },
     "bd8606e0e2214086ada27e1582995cf2": {
      "model_module": "@jupyter-widgets/controls",
      "model_module_version": "1.5.0",
      "model_name": "ButtonStyleModel",
      "state": {
       "button_color": "white"
      }
     },
     "bda62d76434943e4ae414c503d246b94": {
      "model_module": "@jupyter-widgets/base",
      "model_module_version": "1.2.0",
      "model_name": "LayoutModel",
      "state": {
       "overflow_x": "scroll"
      }
     },
     "c2010ebbe11b48e49aebf37e4920b0ce": {
      "model_module": "@jupyter-widgets/controls",
      "model_module_version": "1.5.0",
      "model_name": "HTMLModel",
      "state": {
       "layout": "IPY_MODEL_3072bce472eb4c2aaa537e0336f9a52e",
       "style": "IPY_MODEL_4c56c50f03f5448b917496eec0266b81",
       "value": "-"
      }
     },
     "c2f853914501410faca7e260e193b322": {
      "model_module": "@jupyter-widgets/controls",
      "model_module_version": "1.5.0",
      "model_name": "HTMLModel",
      "state": {
       "layout": "IPY_MODEL_4ac1d79d8e1f4621b7499ec05eead114",
       "style": "IPY_MODEL_cfaa9a94dc404a588d572eea7d1d5182",
       "value": "<font style='color:#FFB000'>CANCELLED</font>"
      }
     },
     "c581af9eb6a1460f8f38d2269d6e6a72": {
      "model_module": "@jupyter-widgets/base",
      "model_module_version": "1.2.0",
      "model_name": "LayoutModel",
      "state": {
       "grid_area": "right",
       "padding": "0px 0px 0px 0px",
       "width": "70px"
      }
     },
     "c88041378ba549cab6c90b40870258fc": {
      "model_module": "@jupyter-widgets/controls",
      "model_module_version": "1.5.0",
      "model_name": "HTMLModel",
      "state": {
       "layout": "IPY_MODEL_71c7c8ba953d42168c0453ade5b9345e",
       "style": "IPY_MODEL_fc97cb169c99410186b2de092bb76aa4",
       "value": "<h5>Backend</h5>"
      }
     },
     "cb8f2a4319e7414797fda83a923b564e": {
      "model_module": "@jupyter-widgets/controls",
      "model_module_version": "1.5.0",
      "model_name": "DescriptionStyleModel",
      "state": {
       "description_width": ""
      }
     },
     "cfaa9a94dc404a588d572eea7d1d5182": {
      "model_module": "@jupyter-widgets/controls",
      "model_module_version": "1.5.0",
      "model_name": "DescriptionStyleModel",
      "state": {
       "description_width": ""
      }
     },
     "d70f9afa737b4c94863336fa748b0fde": {
      "model_module": "@jupyter-widgets/base",
      "model_module_version": "1.2.0",
      "model_name": "LayoutModel",
      "state": {
       "width": "95px"
      }
     },
     "e4973821932048e997376bb29f304435": {
      "model_module": "@jupyter-widgets/controls",
      "model_module_version": "1.5.0",
      "model_name": "DescriptionStyleModel",
      "state": {
       "description_width": ""
      }
     },
     "e5e2678997bd4745a435db5d097d24d9": {
      "model_module": "@jupyter-widgets/controls",
      "model_module_version": "1.5.0",
      "model_name": "HTMLModel",
      "state": {
       "layout": "IPY_MODEL_08958b630b48467686a49923515d544e",
       "style": "IPY_MODEL_04d70924feda46468dad862dee92fcf5",
       "value": "<h5>Job ID</h5>"
      }
     },
     "ecd3d647c6c44a7f8104f1dd417aad96": {
      "model_module": "@jupyter-widgets/controls",
      "model_module_version": "1.5.0",
      "model_name": "DescriptionStyleModel",
      "state": {
       "description_width": ""
      }
     },
     "ee61486070e749ee810b7bafe4272133": {
      "model_module": "@jupyter-widgets/base",
      "model_module_version": "1.2.0",
      "model_name": "LayoutModel",
      "state": {
       "width": "145px"
      }
     },
     "f3cc55a31bc54907837d73e6593d5180": {
      "model_module": "@jupyter-widgets/controls",
      "model_module_version": "1.5.0",
      "model_name": "HTMLModel",
      "state": {
       "layout": "IPY_MODEL_4aacd694d9b0485aab5a9f866471534e",
       "style": "IPY_MODEL_ecd3d647c6c44a7f8104f1dd417aad96",
       "value": "61e30915a90e53646c736239"
      }
     },
     "f5c35b5c59874c8fba63036c9f5807d7": {
      "model_module": "@jupyter-widgets/controls",
      "model_module_version": "1.5.0",
      "model_name": "DescriptionStyleModel",
      "state": {
       "description_width": ""
      }
     },
     "fbb4d05e94e04c07a8f296512c346552": {
      "model_module": "@jupyter-widgets/controls",
      "model_module_version": "1.5.0",
      "model_name": "DescriptionStyleModel",
      "state": {
       "description_width": ""
      }
     },
     "fbd04029ce2a4374bf6aa1f5f370fe86": {
      "model_module": "@jupyter-widgets/controls",
      "model_module_version": "1.5.0",
      "model_name": "HTMLModel",
      "state": {
       "layout": "IPY_MODEL_ad3424fafd3c42fd9386622adf81b818",
       "style": "IPY_MODEL_065626d1f0e549129d86dcfd946c38a3",
       "value": "<h5>Message</h5>"
      }
     },
     "fc97cb169c99410186b2de092bb76aa4": {
      "model_module": "@jupyter-widgets/controls",
      "model_module_version": "1.5.0",
      "model_name": "DescriptionStyleModel",
      "state": {
       "description_width": ""
      }
     }
    },
    "version_major": 2,
    "version_minor": 0
   }
  }
 },
 "nbformat": 4,
 "nbformat_minor": 5
}
